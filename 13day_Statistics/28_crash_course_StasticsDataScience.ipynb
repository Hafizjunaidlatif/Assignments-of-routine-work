{
 "cells": [
  {
   "cell_type": "code",
   "execution_count": 2,
   "metadata": {},
   "outputs": [
    {
     "name": "stdout",
     "output_type": "stream",
     "text": [
      "       Unnamed: 0    survived      pclass         age       sibsp       parch  \\\n",
      "count  891.000000  891.000000  891.000000  714.000000  891.000000  891.000000   \n",
      "mean   445.000000    0.383838    2.308642   29.699118    0.523008    0.381594   \n",
      "std    257.353842    0.486592    0.836071   14.526497    1.102743    0.806057   \n",
      "min      0.000000    0.000000    1.000000    0.420000    0.000000    0.000000   \n",
      "25%    222.500000    0.000000    2.000000   20.125000    0.000000    0.000000   \n",
      "50%    445.000000    0.000000    3.000000   28.000000    0.000000    0.000000   \n",
      "75%    667.500000    1.000000    3.000000   38.000000    1.000000    0.000000   \n",
      "max    890.000000    1.000000    3.000000   80.000000    8.000000    6.000000   \n",
      "\n",
      "             fare  \n",
      "count  891.000000  \n",
      "mean    32.204208  \n",
      "std     49.693429  \n",
      "min      0.000000  \n",
      "25%      7.910400  \n",
      "50%     14.454200  \n",
      "75%     31.000000  \n",
      "max    512.329200  \n"
     ]
    }
   ],
   "source": [
    "import pandas as pd\n",
    "ks = pd.read_csv(\"kashti.csv\")\n",
    "print(ks.describe())"
   ]
  },
  {
   "cell_type": "code",
   "execution_count": null,
   "metadata": {},
   "outputs": [],
   "source": []
  }
 ],
 "metadata": {
  "interpreter": {
   "hash": "ebdec7a4a820d7b1c5414a45746977606df59a5160a9390e4cd3ca96ea59c37f"
  },
  "kernelspec": {
   "display_name": "Python 3.10.2 64-bit (windows store)",
   "language": "python",
   "name": "python3"
  },
  "language_info": {
   "codemirror_mode": {
    "name": "ipython",
    "version": 3
   },
   "file_extension": ".py",
   "mimetype": "text/x-python",
   "name": "python",
   "nbconvert_exporter": "python",
   "pygments_lexer": "ipython3",
   "version": "3.10.2"
  },
  "orig_nbformat": 4
 },
 "nbformat": 4,
 "nbformat_minor": 2
}
