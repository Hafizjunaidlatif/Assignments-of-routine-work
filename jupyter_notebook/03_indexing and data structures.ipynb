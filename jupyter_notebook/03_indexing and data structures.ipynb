{
 "cells": [
  {
   "cell_type": "markdown",
   "id": "235671a9",
   "metadata": {},
   "source": [
    "#INDEXING\n",
    "**Making a string**"
   ]
  },
  {
   "cell_type": "code",
   "execution_count": 1,
   "id": "c389cc70",
   "metadata": {},
   "outputs": [],
   "source": [
    "a =\"custurd triffle\""
   ]
  },
  {
   "cell_type": "code",
   "execution_count": 2,
   "id": "6d37c8b3",
   "metadata": {},
   "outputs": [
    {
     "data": {
      "text/plain": [
       "'custurd triffle'"
      ]
     },
     "execution_count": 2,
     "metadata": {},
     "output_type": "execute_result"
    }
   ],
   "source": [
    "a"
   ]
  },
  {
   "cell_type": "markdown",
   "id": "6f570be2",
   "metadata": {},
   "source": [
    "**Length of the string**"
   ]
  },
  {
   "cell_type": "code",
   "execution_count": 3,
   "id": "e6a6ecd8",
   "metadata": {},
   "outputs": [
    {
     "data": {
      "text/plain": [
       "15"
      ]
     },
     "execution_count": 3,
     "metadata": {},
     "output_type": "execute_result"
    }
   ],
   "source": [
    "len(a)"
   ]
  },
  {
   "cell_type": "code",
   "execution_count": 4,
   "id": "65a919ff",
   "metadata": {},
   "outputs": [
    {
     "data": {
      "text/plain": [
       "'c'"
      ]
     },
     "execution_count": 4,
     "metadata": {},
     "output_type": "execute_result"
    }
   ],
   "source": [
    "a[0]"
   ]
  },
  {
   "cell_type": "code",
   "execution_count": 5,
   "id": "48de513f",
   "metadata": {},
   "outputs": [
    {
     "data": {
      "text/plain": [
       "'u'"
      ]
     },
     "execution_count": 5,
     "metadata": {},
     "output_type": "execute_result"
    }
   ],
   "source": [
    "a[1]"
   ]
  },
  {
   "cell_type": "code",
   "execution_count": 6,
   "id": "f85c0c25",
   "metadata": {},
   "outputs": [
    {
     "data": {
      "text/plain": [
       "'s'"
      ]
     },
     "execution_count": 6,
     "metadata": {},
     "output_type": "execute_result"
    }
   ],
   "source": [
    "a[2]"
   ]
  },
  {
   "cell_type": "code",
   "execution_count": 7,
   "id": "915980b6",
   "metadata": {},
   "outputs": [
    {
     "data": {
      "text/plain": [
       "'e'"
      ]
     },
     "execution_count": 7,
     "metadata": {},
     "output_type": "execute_result"
    }
   ],
   "source": [
    "a[14]"
   ]
  },
  {
   "cell_type": "markdown",
   "id": "b785b123",
   "metadata": {},
   "source": [
    "**last indeces are exclusive**"
   ]
  },
  {
   "cell_type": "code",
   "execution_count": 8,
   "id": "cd3e8dce",
   "metadata": {},
   "outputs": [
    {
     "data": {
      "text/plain": [
       "'custurd '"
      ]
     },
     "execution_count": 8,
     "metadata": {},
     "output_type": "execute_result"
    }
   ],
   "source": [
    "a[0:8]"
   ]
  },
  {
   "cell_type": "code",
   "execution_count": 9,
   "id": "e2f87cbc",
   "metadata": {},
   "outputs": [
    {
     "data": {
      "text/plain": [
       "'e'"
      ]
     },
     "execution_count": 9,
     "metadata": {},
     "output_type": "execute_result"
    }
   ],
   "source": [
    "a[-1]"
   ]
  },
  {
   "cell_type": "code",
   "execution_count": 10,
   "id": "2b34a4fd",
   "metadata": {},
   "outputs": [
    {
     "data": {
      "text/plain": [
       "'t'"
      ]
     },
     "execution_count": 10,
     "metadata": {},
     "output_type": "execute_result"
    }
   ],
   "source": [
    "a[-7]"
   ]
  },
  {
   "cell_type": "code",
   "execution_count": 11,
   "id": "b2939036",
   "metadata": {},
   "outputs": [
    {
     "data": {
      "text/plain": [
       "'triffle'"
      ]
     },
     "execution_count": 11,
     "metadata": {},
     "output_type": "execute_result"
    }
   ],
   "source": [
    "a[-7:15]"
   ]
  },
  {
   "cell_type": "markdown",
   "id": "232e5e63",
   "metadata": {},
   "source": [
    "##STRINGS METHODS "
   ]
  },
  {
   "cell_type": "code",
   "execution_count": 12,
   "id": "20b93cc4",
   "metadata": {},
   "outputs": [],
   "source": [
    "food = \"raita\""
   ]
  },
  {
   "cell_type": "code",
   "execution_count": 13,
   "id": "26496f47",
   "metadata": {},
   "outputs": [
    {
     "data": {
      "text/plain": [
       "'raita'"
      ]
     },
     "execution_count": 13,
     "metadata": {},
     "output_type": "execute_result"
    }
   ],
   "source": [
    "food"
   ]
  },
  {
   "cell_type": "code",
   "execution_count": 14,
   "id": "5ef574ce",
   "metadata": {},
   "outputs": [
    {
     "data": {
      "text/plain": [
       "5"
      ]
     },
     "execution_count": 14,
     "metadata": {},
     "output_type": "execute_result"
    }
   ],
   "source": [
    "len(food)"
   ]
  },
  {
   "cell_type": "code",
   "execution_count": 15,
   "id": "a63fc48e",
   "metadata": {},
   "outputs": [
    {
     "data": {
      "text/plain": [
       "'Raita'"
      ]
     },
     "execution_count": 15,
     "metadata": {},
     "output_type": "execute_result"
    }
   ],
   "source": [
    "#capitalize each word\n",
    "food.capitalize()"
   ]
  },
  {
   "cell_type": "code",
   "execution_count": 16,
   "id": "fd4dcd58",
   "metadata": {},
   "outputs": [
    {
     "data": {
      "text/plain": [
       "'RAITA'"
      ]
     },
     "execution_count": 16,
     "metadata": {},
     "output_type": "execute_result"
    }
   ],
   "source": [
    "#uppercase whole\n",
    "food.upper()"
   ]
  },
  {
   "cell_type": "code",
   "execution_count": 17,
   "id": "eea0c6b7",
   "metadata": {},
   "outputs": [
    {
     "data": {
      "text/plain": [
       "'raita'"
      ]
     },
     "execution_count": 17,
     "metadata": {},
     "output_type": "execute_result"
    }
   ],
   "source": [
    "#lowercase whole\n",
    "food.lower()"
   ]
  },
  {
   "cell_type": "code",
   "execution_count": 18,
   "id": "bbab7141",
   "metadata": {},
   "outputs": [
    {
     "data": {
      "text/plain": [
       "'shaita'"
      ]
     },
     "execution_count": 18,
     "metadata": {},
     "output_type": "execute_result"
    }
   ],
   "source": [
    "#relace\n",
    "food.replace(\"r\",\"sh\")"
   ]
  },
  {
   "cell_type": "code",
   "execution_count": 19,
   "id": "ea5315af",
   "metadata": {},
   "outputs": [],
   "source": [
    "myself=\"I am a Phd student of bioinformatics from China currently suspended due to Covid\""
   ]
  },
  {
   "cell_type": "code",
   "execution_count": 20,
   "id": "c4eb3bf3",
   "metadata": {},
   "outputs": [
    {
     "data": {
      "text/plain": [
       "'I am a Phd student of bioinformatics from China currently suspended due to Covid'"
      ]
     },
     "execution_count": 20,
     "metadata": {},
     "output_type": "execute_result"
    }
   ],
   "source": [
    "myself"
   ]
  },
  {
   "cell_type": "code",
   "execution_count": 21,
   "id": "925e2185",
   "metadata": {},
   "outputs": [
    {
     "data": {
      "text/plain": [
       "4"
      ]
     },
     "execution_count": 21,
     "metadata": {},
     "output_type": "execute_result"
    }
   ],
   "source": [
    "#counting a specific letter\n",
    "myself.count(\"a\")"
   ]
  },
  {
   "cell_type": "code",
   "execution_count": 22,
   "id": "0fd57edc",
   "metadata": {},
   "outputs": [
    {
     "data": {
      "text/plain": [
       "2"
      ]
     },
     "execution_count": 22,
     "metadata": {},
     "output_type": "execute_result"
    }
   ],
   "source": [
    "myself.count(\"C\")"
   ]
  },
  {
   "cell_type": "markdown",
   "id": "9cbba803",
   "metadata": {},
   "source": [
    "###Finding an index number in a string"
   ]
  },
  {
   "cell_type": "code",
   "execution_count": 23,
   "id": "9be81bcc",
   "metadata": {},
   "outputs": [],
   "source": [
    "myself=\"I am a Phd student of bioinformatics from China currently suspended due to Covid\""
   ]
  },
  {
   "cell_type": "code",
   "execution_count": 24,
   "id": "92c1a1bf",
   "metadata": {},
   "outputs": [
    {
     "data": {
      "text/plain": [
       "'I am a Phd student of bioinformatics from China currently suspended due to Covid'"
      ]
     },
     "execution_count": 24,
     "metadata": {},
     "output_type": "execute_result"
    }
   ],
   "source": [
    "myself"
   ]
  },
  {
   "cell_type": "code",
   "execution_count": 25,
   "id": "7e3302e3",
   "metadata": {},
   "outputs": [
    {
     "data": {
      "text/plain": [
       "22"
      ]
     },
     "execution_count": 25,
     "metadata": {},
     "output_type": "execute_result"
    }
   ],
   "source": [
    "myself.find(\"bio\")"
   ]
  },
  {
   "cell_type": "code",
   "execution_count": 26,
   "id": "4e8b88ad",
   "metadata": {},
   "outputs": [
    {
     "data": {
      "text/plain": [
       "75"
      ]
     },
     "execution_count": 26,
     "metadata": {},
     "output_type": "execute_result"
    }
   ],
   "source": [
    "myself.find(\"Covid\")"
   ]
  },
  {
   "cell_type": "markdown",
   "id": "7bbc3744",
   "metadata": {},
   "source": [
    "###how to split a string"
   ]
  },
  {
   "cell_type": "code",
   "execution_count": 27,
   "id": "3cd79044",
   "metadata": {},
   "outputs": [
    {
     "data": {
      "text/plain": [
       "['I',\n",
       " 'am',\n",
       " 'a',\n",
       " 'Phd',\n",
       " 'student',\n",
       " 'of',\n",
       " 'bioinformatics',\n",
       " 'from',\n",
       " 'China',\n",
       " 'currently',\n",
       " 'suspended',\n",
       " 'due',\n",
       " 'to',\n",
       " 'Covid']"
      ]
     },
     "execution_count": 27,
     "metadata": {},
     "output_type": "execute_result"
    }
   ],
   "source": [
    "myself.split(\" \")"
   ]
  },
  {
   "cell_type": "markdown",
   "id": "9904b60a",
   "metadata": {},
   "source": [
    "#Basics DATA STRUCTURES in Python\n",
    "**1-tuples\n",
    "2-Lists\n",
    "3-Dictionaries \n",
    "4-Sets**"
   ]
  },
  {
   "cell_type": "markdown",
   "id": "3ec15bcc",
   "metadata": {},
   "source": [
    "##1-TUPLE\n",
    "**1-ordered collection of elements\n",
    "2-enclosed in ()\n",
    "3-different elements can be stored\n",
    "4-unmutatable**"
   ]
  },
  {
   "cell_type": "code",
   "execution_count": 28,
   "id": "3cdd0899",
   "metadata": {},
   "outputs": [
    {
     "data": {
      "text/plain": [
       "(43, 'python ka chilla', False, 8.7)"
      ]
     },
     "execution_count": 28,
     "metadata": {},
     "output_type": "execute_result"
    }
   ],
   "source": [
    "tup1=(43,\"python ka chilla\",False,8.7)\n",
    "tup1"
   ]
  },
  {
   "cell_type": "markdown",
   "id": "a72c0228",
   "metadata": {},
   "source": [
    "###indexing in tuple"
   ]
  },
  {
   "cell_type": "code",
   "execution_count": 29,
   "id": "c67dff17",
   "metadata": {},
   "outputs": [
    {
     "data": {
      "text/plain": [
       "'python ka chilla'"
      ]
     },
     "execution_count": 29,
     "metadata": {},
     "output_type": "execute_result"
    }
   ],
   "source": [
    "tup1[1]"
   ]
  },
  {
   "cell_type": "code",
   "execution_count": 30,
   "id": "9eacd42f",
   "metadata": {},
   "outputs": [
    {
     "data": {
      "text/plain": [
       "(43, 'python ka chilla', False, 8.7)"
      ]
     },
     "execution_count": 30,
     "metadata": {},
     "output_type": "execute_result"
    }
   ],
   "source": [
    "tup1[0:5]"
   ]
  },
  {
   "cell_type": "code",
   "execution_count": 31,
   "id": "60e5c968",
   "metadata": {},
   "outputs": [
    {
     "data": {
      "text/plain": [
       "(8.5, True, 'azka junaid', 56)"
      ]
     },
     "execution_count": 31,
     "metadata": {},
     "output_type": "execute_result"
    }
   ],
   "source": [
    "tup2=(8.5,True,\"azka junaid\",56)\n",
    "tup2"
   ]
  },
  {
   "cell_type": "code",
   "execution_count": 32,
   "id": "d80549ed",
   "metadata": {},
   "outputs": [
    {
     "data": {
      "text/plain": [
       "(43, 'python ka chilla', False, 8.7, 8.5, True, 'azka junaid', 56)"
      ]
     },
     "execution_count": 32,
     "metadata": {},
     "output_type": "execute_result"
    }
   ],
   "source": [
    "#concatinate tuple\n",
    "tup1+tup2"
   ]
  },
  {
   "cell_type": "code",
   "execution_count": 33,
   "id": "1ea70f98",
   "metadata": {},
   "outputs": [
    {
     "data": {
      "text/plain": [
       "(43,\n",
       " 'python ka chilla',\n",
       " False,\n",
       " 8.7,\n",
       " 43,\n",
       " 'python ka chilla',\n",
       " False,\n",
       " 8.7,\n",
       " 8.5,\n",
       " True,\n",
       " 'azka junaid',\n",
       " 56)"
      ]
     },
     "execution_count": 33,
     "metadata": {},
     "output_type": "execute_result"
    }
   ],
   "source": [
    "#concatinate and repeat\n",
    "tup1*2+tup2"
   ]
  },
  {
   "cell_type": "code",
   "execution_count": 34,
   "id": "bbdc0fea",
   "metadata": {},
   "outputs": [
    {
     "data": {
      "text/plain": [
       "12"
      ]
     },
     "execution_count": 34,
     "metadata": {},
     "output_type": "execute_result"
    }
   ],
   "source": [
    "len(tup1*2+tup2)"
   ]
  },
  {
   "cell_type": "code",
   "execution_count": 35,
   "id": "d3347909",
   "metadata": {},
   "outputs": [
    {
     "data": {
      "text/plain": [
       "(34, 56, 82, 19)"
      ]
     },
     "execution_count": 35,
     "metadata": {},
     "output_type": "execute_result"
    }
   ],
   "source": [
    "tup3=(34,56,82,19)\n",
    "tup3"
   ]
  },
  {
   "cell_type": "code",
   "execution_count": 36,
   "id": "e0f39d68",
   "metadata": {},
   "outputs": [
    {
     "data": {
      "text/plain": [
       "19"
      ]
     },
     "execution_count": 36,
     "metadata": {},
     "output_type": "execute_result"
    }
   ],
   "source": [
    "#minimun in tuple\n",
    "min(tup3)"
   ]
  },
  {
   "cell_type": "code",
   "execution_count": 37,
   "id": "bf46adb6",
   "metadata": {},
   "outputs": [
    {
     "data": {
      "text/plain": [
       "82"
      ]
     },
     "execution_count": 37,
     "metadata": {},
     "output_type": "execute_result"
    }
   ],
   "source": [
    "#maximum in tuple\n",
    "max(tup3)"
   ]
  },
  {
   "cell_type": "code",
   "execution_count": 86,
   "id": "ac44a5be",
   "metadata": {},
   "outputs": [
    {
     "data": {
      "text/plain": [
       "(34, 56, 82, 19)"
      ]
     },
     "execution_count": 86,
     "metadata": {},
     "output_type": "execute_result"
    }
   ],
   "source": [
    "tup3"
   ]
  },
  {
   "cell_type": "markdown",
   "id": "9ba4055f",
   "metadata": {},
   "source": [
    "---"
   ]
  },
  {
   "cell_type": "markdown",
   "id": "ad3fa7ce",
   "metadata": {},
   "source": [
    "##2-LISTS\n",
    "**1-ordered collection of different elements \n",
    "2-enclosed in []\n",
    "3-mutatable/changeable**"
   ]
  },
  {
   "cell_type": "code",
   "execution_count": 39,
   "id": "395ab27f",
   "metadata": {},
   "outputs": [
    {
     "data": {
      "text/plain": [
       "[8.5, True, 'azka junaid', 56]"
      ]
     },
     "execution_count": 39,
     "metadata": {},
     "output_type": "execute_result"
    }
   ],
   "source": [
    "list1=[8.5,True,\"azka junaid\",56]\n",
    "list1"
   ]
  },
  {
   "cell_type": "code",
   "execution_count": 40,
   "id": "45d10460",
   "metadata": {},
   "outputs": [
    {
     "data": {
      "text/plain": [
       "56"
      ]
     },
     "execution_count": 40,
     "metadata": {},
     "output_type": "execute_result"
    }
   ],
   "source": [
    "list1[3]"
   ]
  },
  {
   "cell_type": "code",
   "execution_count": 41,
   "id": "746c1922",
   "metadata": {},
   "outputs": [
    {
     "data": {
      "text/plain": [
       "4"
      ]
     },
     "execution_count": 41,
     "metadata": {},
     "output_type": "execute_result"
    }
   ],
   "source": [
    "len(list1)"
   ]
  },
  {
   "cell_type": "code",
   "execution_count": 42,
   "id": "16bd7dda",
   "metadata": {},
   "outputs": [
    {
     "data": {
      "text/plain": [
       "56"
      ]
     },
     "execution_count": 42,
     "metadata": {},
     "output_type": "execute_result"
    }
   ],
   "source": [
    "list1[3]"
   ]
  },
  {
   "cell_type": "code",
   "execution_count": 43,
   "id": "1787fcf0",
   "metadata": {},
   "outputs": [
    {
     "data": {
      "text/plain": [
       "['azka', 'aammar', 88, 77.8, 77, 9865, False]"
      ]
     },
     "execution_count": 43,
     "metadata": {},
     "output_type": "execute_result"
    }
   ],
   "source": [
    "list2=[\"azka\",\"aammar\",88,77.8,77,9865,False]\n",
    "list2"
   ]
  },
  {
   "cell_type": "code",
   "execution_count": 44,
   "id": "42fb2e1a",
   "metadata": {},
   "outputs": [
    {
     "data": {
      "text/plain": [
       "[8.5, True, 'azka junaid', 56, 'azka', 'aammar', 88, 77.8, 77, 9865, False]"
      ]
     },
     "execution_count": 44,
     "metadata": {},
     "output_type": "execute_result"
    }
   ],
   "source": [
    "list1+list2"
   ]
  },
  {
   "cell_type": "code",
   "execution_count": 45,
   "id": "05ebee87",
   "metadata": {},
   "outputs": [
    {
     "data": {
      "text/plain": [
       "[8.5, True, 'azka junaid', 56, 8.5, True, 'azka junaid', 56]"
      ]
     },
     "execution_count": 45,
     "metadata": {},
     "output_type": "execute_result"
    }
   ],
   "source": [
    "list1*2"
   ]
  },
  {
   "cell_type": "code",
   "execution_count": 46,
   "id": "b7d6c048",
   "metadata": {},
   "outputs": [
    {
     "data": {
      "text/plain": [
       "[8.5, True, 'azka junaid', 56, 'azka', 'aammar', 88, 77.8, 77, 9865, False]"
      ]
     },
     "execution_count": 46,
     "metadata": {},
     "output_type": "execute_result"
    }
   ],
   "source": [
    "list3=list1+list2\n",
    "list3"
   ]
  },
  {
   "cell_type": "code",
   "execution_count": 47,
   "id": "a4045c07",
   "metadata": {},
   "outputs": [
    {
     "data": {
      "text/plain": [
       "[8.5,\n",
       " True,\n",
       " 'azka junaid',\n",
       " 56,\n",
       " 'azka',\n",
       " 'aammar',\n",
       " 88,\n",
       " 77.8,\n",
       " 77,\n",
       " 9865,\n",
       " False,\n",
       " 'the']"
      ]
     },
     "execution_count": 47,
     "metadata": {},
     "output_type": "execute_result"
    }
   ],
   "source": [
    "list3.append(\"the\")\n",
    "list3"
   ]
  },
  {
   "cell_type": "code",
   "execution_count": 48,
   "id": "68200bb3",
   "metadata": {},
   "outputs": [],
   "source": [
    "list3.clear()"
   ]
  },
  {
   "cell_type": "code",
   "execution_count": 49,
   "id": "6695644f",
   "metadata": {},
   "outputs": [
    {
     "data": {
      "text/plain": [
       "['azka', 'aammar', 88, 77.8, 77, 9865, False]"
      ]
     },
     "execution_count": 49,
     "metadata": {},
     "output_type": "execute_result"
    }
   ],
   "source": [
    "list2.copy()"
   ]
  },
  {
   "cell_type": "code",
   "execution_count": 50,
   "id": "fc4dbf5e",
   "metadata": {},
   "outputs": [
    {
     "data": {
      "text/plain": [
       "['azka', 'aammar', 88, 77.8, 77, 9865, False]"
      ]
     },
     "execution_count": 50,
     "metadata": {},
     "output_type": "execute_result"
    }
   ],
   "source": [
    "list2"
   ]
  },
  {
   "cell_type": "code",
   "execution_count": 51,
   "id": "0e31ddd7",
   "metadata": {},
   "outputs": [
    {
     "data": {
      "text/plain": [
       "[False, 9865, 77, 77.8, 88, 'aammar', 'azka']"
      ]
     },
     "execution_count": 51,
     "metadata": {},
     "output_type": "execute_result"
    }
   ],
   "source": [
    "list2.reverse()\n",
    "list2"
   ]
  },
  {
   "cell_type": "code",
   "execution_count": 52,
   "id": "1c53cbbf",
   "metadata": {},
   "outputs": [
    {
     "data": {
      "text/plain": [
       "[3, 6, 6, 6, 34, 48, 85, 87]"
      ]
     },
     "execution_count": 52,
     "metadata": {},
     "output_type": "execute_result"
    }
   ],
   "source": [
    "list3=[34,87,85,6,6,6,3,48]\n",
    "list3.sort()\n",
    "list3"
   ]
  },
  {
   "cell_type": "markdown",
   "id": "3d261a7c",
   "metadata": {},
   "source": [
    "**assignment query**"
   ]
  },
  {
   "cell_type": "code",
   "execution_count": 53,
   "id": "c9458156",
   "metadata": {},
   "outputs": [
    {
     "data": {
      "text/plain": [
       "3"
      ]
     },
     "execution_count": 53,
     "metadata": {},
     "output_type": "execute_result"
    }
   ],
   "source": [
    "list3.count(6)"
   ]
  },
  {
   "cell_type": "code",
   "execution_count": 54,
   "id": "eb2fae43",
   "metadata": {},
   "outputs": [
    {
     "data": {
      "text/plain": [
       "1"
      ]
     },
     "execution_count": 54,
     "metadata": {},
     "output_type": "execute_result"
    }
   ],
   "source": [
    "list2.count(\"aammar\")"
   ]
  },
  {
   "cell_type": "markdown",
   "id": "22f09240",
   "metadata": {},
   "source": [
    "##3-DICTIONSRIES\n",
    "**1-unordered collection of elements \n",
    "2-keys and values\n",
    "3-round braces {}\n",
    "4-mutatable**"
   ]
  },
  {
   "cell_type": "code",
   "execution_count": 55,
   "id": "83ea05fe",
   "metadata": {},
   "outputs": [
    {
     "data": {
      "text/plain": [
       "{'mascara': 700,\n",
       " 'lipstick': 600,\n",
       " 'lipmatte': 800,\n",
       " 'foundation': 1800,\n",
       " 'blush': 500}"
      ]
     },
     "execution_count": 55,
     "metadata": {},
     "output_type": "execute_result"
    }
   ],
   "source": [
    "makeup={\"mascara\":700,\"lipstick\":600,\"lipmatte\":800,\"foundation\":1800,\"blush\":500}\n",
    "makeup"
   ]
  },
  {
   "cell_type": "code",
   "execution_count": 56,
   "id": "c6d67cc8",
   "metadata": {},
   "outputs": [
    {
     "data": {
      "text/plain": [
       "dict"
      ]
     },
     "execution_count": 56,
     "metadata": {},
     "output_type": "execute_result"
    }
   ],
   "source": [
    "type(makeup)"
   ]
  },
  {
   "cell_type": "code",
   "execution_count": 57,
   "id": "fea5dcf1",
   "metadata": {},
   "outputs": [
    {
     "data": {
      "text/plain": [
       "dict_keys(['mascara', 'lipstick', 'lipmatte', 'foundation', 'blush'])"
      ]
     },
     "execution_count": 57,
     "metadata": {},
     "output_type": "execute_result"
    }
   ],
   "source": [
    "keysmakeup=makeup.keys()\n",
    "keysmakeup"
   ]
  },
  {
   "cell_type": "code",
   "execution_count": 58,
   "id": "3d509912",
   "metadata": {},
   "outputs": [
    {
     "data": {
      "text/plain": [
       "dict_values([700, 600, 800, 1800, 500])"
      ]
     },
     "execution_count": 58,
     "metadata": {},
     "output_type": "execute_result"
    }
   ],
   "source": [
    "valuemakeup=makeup.values()\n",
    "valuemakeup"
   ]
  },
  {
   "cell_type": "code",
   "execution_count": 59,
   "id": "345b86d3",
   "metadata": {},
   "outputs": [],
   "source": [
    "makeup[\"liner\"]=450"
   ]
  },
  {
   "cell_type": "code",
   "execution_count": 60,
   "id": "e8524a96",
   "metadata": {},
   "outputs": [
    {
     "data": {
      "text/plain": [
       "<function dict.update>"
      ]
     },
     "execution_count": 60,
     "metadata": {},
     "output_type": "execute_result"
    }
   ],
   "source": [
    "makeup.update"
   ]
  },
  {
   "cell_type": "code",
   "execution_count": 63,
   "id": "dcb221cc",
   "metadata": {},
   "outputs": [
    {
     "data": {
      "text/plain": [
       "{'mascara': 700,\n",
       " 'lipstick': 600,\n",
       " 'lipmatte': 800,\n",
       " 'foundation': 1800,\n",
       " 'blush': 500,\n",
       " 'liner': 450}"
      ]
     },
     "execution_count": 63,
     "metadata": {},
     "output_type": "execute_result"
    }
   ],
   "source": [
    "makeup"
   ]
  },
  {
   "cell_type": "code",
   "execution_count": 61,
   "id": "b20e4e33",
   "metadata": {},
   "outputs": [
    {
     "data": {
      "text/plain": [
       "{'dress': 4500, 'chappal': 1700, 'jewelery': 700, 'bag': 3000}"
      ]
     },
     "execution_count": 61,
     "metadata": {},
     "output_type": "execute_result"
    }
   ],
   "source": [
    "\n",
    "makeover={\"dress\":4500,\"chappal\":1700,\"jewelery\":700,\"bag\":3000}\n",
    "makeover"
   ]
  },
  {
   "cell_type": "code",
   "execution_count": 62,
   "id": "66086609",
   "metadata": {},
   "outputs": [
    {
     "data": {
      "text/plain": [
       "{'dress': 4500,\n",
       " 'chappal': 1700,\n",
       " 'jewelery': 700,\n",
       " 'bag': 3000,\n",
       " 'mascara': 700,\n",
       " 'lipstick': 600,\n",
       " 'lipmatte': 800,\n",
       " 'foundation': 1800,\n",
       " 'blush': 500,\n",
       " 'liner': 450}"
      ]
     },
     "execution_count": 62,
     "metadata": {},
     "output_type": "execute_result"
    }
   ],
   "source": [
    "makeover.update(makeup)\n",
    "makeover"
   ]
  },
  {
   "cell_type": "code",
   "execution_count": 64,
   "id": "9c96fb05",
   "metadata": {},
   "outputs": [
    {
     "data": {
      "text/plain": [
       "dict_values([4500, 1700, 700, 3000, 700, 600, 800, 1800, 500, 450])"
      ]
     },
     "execution_count": 64,
     "metadata": {},
     "output_type": "execute_result"
    }
   ],
   "source": [
    "makeover.values()"
   ]
  },
  {
   "cell_type": "code",
   "execution_count": 65,
   "id": "3a1826f7",
   "metadata": {},
   "outputs": [
    {
     "data": {
      "text/plain": [
       "14750"
      ]
     },
     "execution_count": 65,
     "metadata": {},
     "output_type": "execute_result"
    }
   ],
   "source": [
    "makeovervalue= sum(makeover.values())\n",
    "makeovervalue"
   ]
  },
  {
   "cell_type": "markdown",
   "id": "57aaba4b",
   "metadata": {},
   "source": [
    "##4-SETS\n",
    "**1-unordered unindexed collection 2-curly braces{} 3-no duplicate**"
   ]
  },
  {
   "cell_type": "code",
   "execution_count": 66,
   "id": "4c781a22",
   "metadata": {},
   "outputs": [
    {
     "data": {
      "text/plain": [
       "{34, 54, 66, 76, 87.9, 'joke funny tha'}"
      ]
     },
     "execution_count": 66,
     "metadata": {},
     "output_type": "execute_result"
    }
   ],
   "source": [
    "set1={66,87.9,76,34,54,\"joke funny tha\"}\n",
    "set1"
   ]
  },
  {
   "cell_type": "code",
   "execution_count": 67,
   "id": "e393c4db",
   "metadata": {},
   "outputs": [
    {
     "data": {
      "text/plain": [
       "{34, 54, 61, 66, 76, 87.9, 'joke funny tha'}"
      ]
     },
     "execution_count": 67,
     "metadata": {},
     "output_type": "execute_result"
    }
   ],
   "source": [
    "set1.add(61)\n",
    "set1"
   ]
  },
  {
   "cell_type": "code",
   "execution_count": 68,
   "id": "699e8339",
   "metadata": {},
   "outputs": [
    {
     "data": {
      "text/plain": [
       "set()"
      ]
     },
     "execution_count": 68,
     "metadata": {},
     "output_type": "execute_result"
    }
   ],
   "source": [
    "set1.clear()\n",
    "set1"
   ]
  },
  {
   "cell_type": "code",
   "execution_count": 69,
   "id": "76e51500",
   "metadata": {},
   "outputs": [
    {
     "data": {
      "text/plain": [
       "{34, 54, 66, 76, 87.9, 'joke funny tha'}"
      ]
     },
     "execution_count": 69,
     "metadata": {},
     "output_type": "execute_result"
    }
   ],
   "source": [
    "set1={66,87.9,76,34,54,\"joke funny tha\"}\n",
    "set1"
   ]
  },
  {
   "cell_type": "code",
   "execution_count": 70,
   "id": "659a06d9",
   "metadata": {},
   "outputs": [
    {
     "data": {
      "text/plain": [
       "{34, 54, 66, 76, 87.9, 'joke funny tha'}"
      ]
     },
     "execution_count": 70,
     "metadata": {},
     "output_type": "execute_result"
    }
   ],
   "source": [
    "set1.copy()"
   ]
  },
  {
   "cell_type": "code",
   "execution_count": 71,
   "id": "04aa3f79",
   "metadata": {},
   "outputs": [
    {
     "data": {
      "text/plain": [
       "{54, 66, 67, 84, 92}"
      ]
     },
     "execution_count": 71,
     "metadata": {},
     "output_type": "execute_result"
    }
   ],
   "source": [
    "set2={67,84,66,54,92}\n",
    "set2"
   ]
  },
  {
   "cell_type": "code",
   "execution_count": 72,
   "id": "7c7837c2",
   "metadata": {
    "scrolled": true
   },
   "outputs": [
    {
     "data": {
      "text/plain": [
       "{34, 76, 87.9, 'joke funny tha'}"
      ]
     },
     "execution_count": 72,
     "metadata": {},
     "output_type": "execute_result"
    }
   ],
   "source": [
    "set1.difference(set2)"
   ]
  },
  {
   "cell_type": "code",
   "execution_count": 73,
   "id": "a6d9e5cb",
   "metadata": {},
   "outputs": [
    {
     "data": {
      "text/plain": [
       "{34, 76, 87.9, 'joke funny tha'}"
      ]
     },
     "execution_count": 73,
     "metadata": {},
     "output_type": "execute_result"
    }
   ],
   "source": [
    "set1.difference_update(set2)\n",
    "set1"
   ]
  },
  {
   "cell_type": "code",
   "execution_count": 74,
   "id": "53649c50",
   "metadata": {},
   "outputs": [
    {
     "data": {
      "text/plain": [
       "{34, 87.9, 'joke funny tha'}"
      ]
     },
     "execution_count": 74,
     "metadata": {},
     "output_type": "execute_result"
    }
   ],
   "source": [
    "set1.discard(76)\n",
    "set1"
   ]
  },
  {
   "cell_type": "code",
   "execution_count": 85,
   "id": "5f5bc17b",
   "metadata": {},
   "outputs": [
    {
     "data": {
      "text/plain": [
       "{34, 87.9, 'joke funny tha'}"
      ]
     },
     "execution_count": 85,
     "metadata": {},
     "output_type": "execute_result"
    }
   ],
   "source": [
    "set1.intersection()"
   ]
  }
 ],
 "metadata": {
  "kernelspec": {
   "display_name": "Python 3 (ipykernel)",
   "language": "python",
   "name": "python3"
  },
  "language_info": {
   "codemirror_mode": {
    "name": "ipython",
    "version": 3
   },
   "file_extension": ".py",
   "mimetype": "text/x-python",
   "name": "python",
   "nbconvert_exporter": "python",
   "pygments_lexer": "ipython3",
   "version": "3.9.7"
  }
 },
 "nbformat": 4,
 "nbformat_minor": 5
}
