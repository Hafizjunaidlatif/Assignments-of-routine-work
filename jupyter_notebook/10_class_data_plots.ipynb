{
 "cells": [
  {
   "cell_type": "code",
   "execution_count": 1,
   "id": "fc266b21",
   "metadata": {},
   "outputs": [
    {
     "data": {
      "text/html": [
       "<div>\n",
       "<style scoped>\n",
       "    .dataframe tbody tr th:only-of-type {\n",
       "        vertical-align: middle;\n",
       "    }\n",
       "\n",
       "    .dataframe tbody tr th {\n",
       "        vertical-align: top;\n",
       "    }\n",
       "\n",
       "    .dataframe thead th {\n",
       "        text-align: right;\n",
       "    }\n",
       "</style>\n",
       "<table border=\"1\" class=\"dataframe\">\n",
       "  <thead>\n",
       "    <tr style=\"text-align: right;\">\n",
       "      <th></th>\n",
       "      <th>Gender</th>\n",
       "      <th>Location</th>\n",
       "      <th>Age</th>\n",
       "      <th>Qualification_completed</th>\n",
       "      <th>field_of_study</th>\n",
       "      <th>Purpose_for_chilla</th>\n",
       "      <th>What are you?</th>\n",
       "      <th>Blood group</th>\n",
       "      <th>Which mobile sim do you use</th>\n",
       "      <th>Prepaid or Postpaid</th>\n",
       "      <th>...</th>\n",
       "      <th>Your favorite programming language?</th>\n",
       "      <th>Marital Status?</th>\n",
       "      <th>Are you Vaccinated?</th>\n",
       "      <th>Where do you live?</th>\n",
       "      <th>Research/Working experience (Float/Int) years</th>\n",
       "      <th>Age (years)-Float/Int</th>\n",
       "      <th>Your Weight in kg? (float)</th>\n",
       "      <th>Height in cm? Freelancer- (Float)</th>\n",
       "      <th>How many hours you code a day? (int) e.g: 5,4,3</th>\n",
       "      <th>Light kitni der band hti hy? int</th>\n",
       "    </tr>\n",
       "  </thead>\n",
       "  <tbody>\n",
       "    <tr>\n",
       "      <th>0</th>\n",
       "      <td>Male</td>\n",
       "      <td>Pakistan</td>\n",
       "      <td>36-40</td>\n",
       "      <td>Masters</td>\n",
       "      <td>Natural Sciences</td>\n",
       "      <td>to boost my skill set</td>\n",
       "      <td>Unemplyed</td>\n",
       "      <td>B+</td>\n",
       "      <td>U-fone</td>\n",
       "      <td>Prepaid</td>\n",
       "      <td>...</td>\n",
       "      <td>Python</td>\n",
       "      <td>Yes</td>\n",
       "      <td>Yes</td>\n",
       "      <td>Urbun</td>\n",
       "      <td>5</td>\n",
       "      <td>38.00</td>\n",
       "      <td>77.0</td>\n",
       "      <td>179.000</td>\n",
       "      <td>3.0</td>\n",
       "      <td>2</td>\n",
       "    </tr>\n",
       "    <tr>\n",
       "      <th>1</th>\n",
       "      <td>Male</td>\n",
       "      <td>Pakistan</td>\n",
       "      <td>26-30</td>\n",
       "      <td>Bachelors</td>\n",
       "      <td>CS/IT</td>\n",
       "      <td>to boost my skill set</td>\n",
       "      <td>Student</td>\n",
       "      <td>B+</td>\n",
       "      <td>U-fone</td>\n",
       "      <td>Prepaid</td>\n",
       "      <td>...</td>\n",
       "      <td>Python</td>\n",
       "      <td>No</td>\n",
       "      <td>Yes</td>\n",
       "      <td>Urbun</td>\n",
       "      <td>1</td>\n",
       "      <td>25.00</td>\n",
       "      <td>53.6</td>\n",
       "      <td>178.000</td>\n",
       "      <td>2.0</td>\n",
       "      <td>6</td>\n",
       "    </tr>\n",
       "    <tr>\n",
       "      <th>2</th>\n",
       "      <td>Male</td>\n",
       "      <td>Pakistan</td>\n",
       "      <td>31-35</td>\n",
       "      <td>Masters</td>\n",
       "      <td>Enginnering</td>\n",
       "      <td>Switch my field of study</td>\n",
       "      <td>Employed</td>\n",
       "      <td>B+</td>\n",
       "      <td>Zong</td>\n",
       "      <td>Prepaid</td>\n",
       "      <td>...</td>\n",
       "      <td>Python</td>\n",
       "      <td>Yes</td>\n",
       "      <td>Yes</td>\n",
       "      <td>Urbun</td>\n",
       "      <td>5.5</td>\n",
       "      <td>31.34</td>\n",
       "      <td>93.0</td>\n",
       "      <td>173.000</td>\n",
       "      <td>2.0</td>\n",
       "      <td>0</td>\n",
       "    </tr>\n",
       "    <tr>\n",
       "      <th>3</th>\n",
       "      <td>Female</td>\n",
       "      <td>Pakistan</td>\n",
       "      <td>31-35</td>\n",
       "      <td>Masters</td>\n",
       "      <td>CS/IT</td>\n",
       "      <td>to boost my skill set</td>\n",
       "      <td>Employed</td>\n",
       "      <td>O+</td>\n",
       "      <td>U-fone</td>\n",
       "      <td>Postpaid</td>\n",
       "      <td>...</td>\n",
       "      <td>Python</td>\n",
       "      <td>Yes</td>\n",
       "      <td>Yes</td>\n",
       "      <td>Urbun</td>\n",
       "      <td>5</td>\n",
       "      <td>33.00</td>\n",
       "      <td>60.0</td>\n",
       "      <td>157.000</td>\n",
       "      <td>3.0</td>\n",
       "      <td>24</td>\n",
       "    </tr>\n",
       "    <tr>\n",
       "      <th>4</th>\n",
       "      <td>Female</td>\n",
       "      <td>Pakistan</td>\n",
       "      <td>26-30</td>\n",
       "      <td>Masters</td>\n",
       "      <td>Enginnering</td>\n",
       "      <td>to boost my skill set</td>\n",
       "      <td>Student</td>\n",
       "      <td>A-</td>\n",
       "      <td>Mobilink</td>\n",
       "      <td>Prepaid</td>\n",
       "      <td>...</td>\n",
       "      <td>Javascript</td>\n",
       "      <td>No</td>\n",
       "      <td>Yes</td>\n",
       "      <td>Rural</td>\n",
       "      <td>3.5</td>\n",
       "      <td>27.00</td>\n",
       "      <td>59.9</td>\n",
       "      <td>164.544</td>\n",
       "      <td>6.0</td>\n",
       "      <td>12</td>\n",
       "    </tr>\n",
       "    <tr>\n",
       "      <th>...</th>\n",
       "      <td>...</td>\n",
       "      <td>...</td>\n",
       "      <td>...</td>\n",
       "      <td>...</td>\n",
       "      <td>...</td>\n",
       "      <td>...</td>\n",
       "      <td>...</td>\n",
       "      <td>...</td>\n",
       "      <td>...</td>\n",
       "      <td>...</td>\n",
       "      <td>...</td>\n",
       "      <td>...</td>\n",
       "      <td>...</td>\n",
       "      <td>...</td>\n",
       "      <td>...</td>\n",
       "      <td>...</td>\n",
       "      <td>...</td>\n",
       "      <td>...</td>\n",
       "      <td>...</td>\n",
       "      <td>...</td>\n",
       "      <td>...</td>\n",
       "    </tr>\n",
       "    <tr>\n",
       "      <th>370</th>\n",
       "      <td>Male</td>\n",
       "      <td>Pakistan</td>\n",
       "      <td>26-30</td>\n",
       "      <td>Masters</td>\n",
       "      <td>Enginnering</td>\n",
       "      <td>to boost my skill set</td>\n",
       "      <td>Employed</td>\n",
       "      <td>O+</td>\n",
       "      <td>Telenor</td>\n",
       "      <td>Prepaid</td>\n",
       "      <td>...</td>\n",
       "      <td>R</td>\n",
       "      <td>Yes</td>\n",
       "      <td>Yes</td>\n",
       "      <td>Rural</td>\n",
       "      <td>7</td>\n",
       "      <td>28.00</td>\n",
       "      <td>70.5</td>\n",
       "      <td>178.500</td>\n",
       "      <td>4.0</td>\n",
       "      <td>3</td>\n",
       "    </tr>\n",
       "    <tr>\n",
       "      <th>371</th>\n",
       "      <td>Male</td>\n",
       "      <td>Pakistan</td>\n",
       "      <td>31-35</td>\n",
       "      <td>Bachelors</td>\n",
       "      <td>Enginnering</td>\n",
       "      <td>to boost my skill set</td>\n",
       "      <td>Employed</td>\n",
       "      <td>A+</td>\n",
       "      <td>Zong</td>\n",
       "      <td>Postpaid</td>\n",
       "      <td>...</td>\n",
       "      <td>Python</td>\n",
       "      <td>Yes</td>\n",
       "      <td>Yes</td>\n",
       "      <td>Urbun</td>\n",
       "      <td>5</td>\n",
       "      <td>33.00</td>\n",
       "      <td>83.4</td>\n",
       "      <td>172.700</td>\n",
       "      <td>1.0</td>\n",
       "      <td>1</td>\n",
       "    </tr>\n",
       "    <tr>\n",
       "      <th>372</th>\n",
       "      <td>Male</td>\n",
       "      <td>Pakistan</td>\n",
       "      <td>21-25</td>\n",
       "      <td>Bachelors</td>\n",
       "      <td>CS/IT</td>\n",
       "      <td>to boost my skill set</td>\n",
       "      <td>Employed</td>\n",
       "      <td>O+</td>\n",
       "      <td>Mobilink</td>\n",
       "      <td>Prepaid</td>\n",
       "      <td>...</td>\n",
       "      <td>Python</td>\n",
       "      <td>No</td>\n",
       "      <td>Yes</td>\n",
       "      <td>Urbun</td>\n",
       "      <td>0</td>\n",
       "      <td>22.80</td>\n",
       "      <td>60.0</td>\n",
       "      <td>1.680</td>\n",
       "      <td>0.0</td>\n",
       "      <td>0</td>\n",
       "    </tr>\n",
       "    <tr>\n",
       "      <th>373</th>\n",
       "      <td>Male</td>\n",
       "      <td>Pakistan</td>\n",
       "      <td>26-30</td>\n",
       "      <td>Masters</td>\n",
       "      <td>Enginnering</td>\n",
       "      <td>to boost my skill set</td>\n",
       "      <td>Employed</td>\n",
       "      <td>B-</td>\n",
       "      <td>Mobilink</td>\n",
       "      <td>Prepaid</td>\n",
       "      <td>...</td>\n",
       "      <td>Python</td>\n",
       "      <td>No</td>\n",
       "      <td>No</td>\n",
       "      <td>Urbun</td>\n",
       "      <td>2</td>\n",
       "      <td>29.00</td>\n",
       "      <td>86.0</td>\n",
       "      <td>180.000</td>\n",
       "      <td>2.0</td>\n",
       "      <td>1</td>\n",
       "    </tr>\n",
       "    <tr>\n",
       "      <th>374</th>\n",
       "      <td>Female</td>\n",
       "      <td>Pakistan</td>\n",
       "      <td>31-35</td>\n",
       "      <td>Masters</td>\n",
       "      <td>Mathematics</td>\n",
       "      <td>Switch my field of study</td>\n",
       "      <td>Unemplyed</td>\n",
       "      <td>B+</td>\n",
       "      <td>Telenor</td>\n",
       "      <td>Prepaid</td>\n",
       "      <td>...</td>\n",
       "      <td>Python</td>\n",
       "      <td>Yes</td>\n",
       "      <td>Yes</td>\n",
       "      <td>Urbun</td>\n",
       "      <td>3</td>\n",
       "      <td>31.00</td>\n",
       "      <td>54.5</td>\n",
       "      <td>161.544</td>\n",
       "      <td>3.0</td>\n",
       "      <td>0</td>\n",
       "    </tr>\n",
       "  </tbody>\n",
       "</table>\n",
       "<p>375 rows × 23 columns</p>\n",
       "</div>"
      ],
      "text/plain": [
       "     Gender  Location    Age Qualification_completed    field_of_study  \\\n",
       "0      Male  Pakistan  36-40                 Masters  Natural Sciences   \n",
       "1      Male  Pakistan  26-30               Bachelors             CS/IT   \n",
       "2      Male  Pakistan  31-35                 Masters       Enginnering   \n",
       "3    Female  Pakistan  31-35                 Masters             CS/IT   \n",
       "4    Female  Pakistan  26-30                 Masters       Enginnering   \n",
       "..      ...       ...    ...                     ...               ...   \n",
       "370    Male  Pakistan  26-30                 Masters       Enginnering   \n",
       "371    Male  Pakistan  31-35               Bachelors       Enginnering   \n",
       "372    Male  Pakistan  21-25               Bachelors             CS/IT   \n",
       "373    Male  Pakistan  26-30                 Masters       Enginnering   \n",
       "374  Female  Pakistan  31-35                 Masters       Mathematics   \n",
       "\n",
       "           Purpose_for_chilla What are you? Blood group   \\\n",
       "0       to boost my skill set     Unemplyed           B+   \n",
       "1       to boost my skill set       Student           B+   \n",
       "2    Switch my field of study      Employed           B+   \n",
       "3       to boost my skill set      Employed           O+   \n",
       "4       to boost my skill set       Student           A-   \n",
       "..                        ...           ...          ...   \n",
       "370     to boost my skill set      Employed           O+   \n",
       "371     to boost my skill set      Employed           A+   \n",
       "372     to boost my skill set      Employed           O+   \n",
       "373     to boost my skill set      Employed           B-   \n",
       "374  Switch my field of study     Unemplyed           B+   \n",
       "\n",
       "    Which mobile sim do you use Prepaid or Postpaid  ...  \\\n",
       "0                        U-fone             Prepaid  ...   \n",
       "1                        U-fone             Prepaid  ...   \n",
       "2                          Zong             Prepaid  ...   \n",
       "3                        U-fone            Postpaid  ...   \n",
       "4                      Mobilink             Prepaid  ...   \n",
       "..                          ...                 ...  ...   \n",
       "370                     Telenor             Prepaid  ...   \n",
       "371                        Zong            Postpaid  ...   \n",
       "372                    Mobilink             Prepaid  ...   \n",
       "373                    Mobilink             Prepaid  ...   \n",
       "374                     Telenor             Prepaid  ...   \n",
       "\n",
       "    Your favorite programming language? Marital Status? Are you Vaccinated?  \\\n",
       "0                                Python             Yes                 Yes   \n",
       "1                                Python              No                 Yes   \n",
       "2                                Python             Yes                 Yes   \n",
       "3                                Python             Yes                 Yes   \n",
       "4                            Javascript              No                 Yes   \n",
       "..                                  ...             ...                 ...   \n",
       "370                                   R             Yes                 Yes   \n",
       "371                              Python             Yes                 Yes   \n",
       "372                              Python              No                 Yes   \n",
       "373                              Python              No                  No   \n",
       "374                              Python             Yes                 Yes   \n",
       "\n",
       "    Where do you live? Research/Working experience (Float/Int) years  \\\n",
       "0                Urbun                                             5   \n",
       "1                Urbun                                             1   \n",
       "2                Urbun                                           5.5   \n",
       "3                Urbun                                             5   \n",
       "4                Rural                                           3.5   \n",
       "..                 ...                                           ...   \n",
       "370              Rural                                             7   \n",
       "371              Urbun                                             5   \n",
       "372              Urbun                                             0   \n",
       "373              Urbun                                             2   \n",
       "374              Urbun                                             3   \n",
       "\n",
       "    Age (years)-Float/Int Your Weight in kg? (float)  \\\n",
       "0                   38.00                       77.0   \n",
       "1                   25.00                       53.6   \n",
       "2                   31.34                       93.0   \n",
       "3                   33.00                       60.0   \n",
       "4                   27.00                       59.9   \n",
       "..                    ...                        ...   \n",
       "370                 28.00                       70.5   \n",
       "371                 33.00                       83.4   \n",
       "372                 22.80                       60.0   \n",
       "373                 29.00                       86.0   \n",
       "374                 31.00                       54.5   \n",
       "\n",
       "    Height in cm? Freelancer- (Float)  \\\n",
       "0                             179.000   \n",
       "1                             178.000   \n",
       "2                             173.000   \n",
       "3                             157.000   \n",
       "4                             164.544   \n",
       "..                                ...   \n",
       "370                           178.500   \n",
       "371                           172.700   \n",
       "372                             1.680   \n",
       "373                           180.000   \n",
       "374                           161.544   \n",
       "\n",
       "     How many hours you code a day? (int) e.g: 5,4,3  \\\n",
       "0                                                3.0   \n",
       "1                                                2.0   \n",
       "2                                                2.0   \n",
       "3                                                3.0   \n",
       "4                                                6.0   \n",
       "..                                               ...   \n",
       "370                                              4.0   \n",
       "371                                              1.0   \n",
       "372                                              0.0   \n",
       "373                                              2.0   \n",
       "374                                              3.0   \n",
       "\n",
       "     Light kitni der band hti hy? int  \n",
       "0                                   2  \n",
       "1                                   6  \n",
       "2                                   0  \n",
       "3                                  24  \n",
       "4                                  12  \n",
       "..                                ...  \n",
       "370                                 3  \n",
       "371                                 1  \n",
       "372                                 0  \n",
       "373                                 1  \n",
       "374                                 0  \n",
       "\n",
       "[375 rows x 23 columns]"
      ]
     },
     "execution_count": 1,
     "metadata": {},
     "output_type": "execute_result"
    }
   ],
   "source": [
    "import seaborn as sns\n",
    "import matplotlib.pyplot as plt\n",
    "import pandas as pd\n",
    "classdata=pd.read_csv(r\"C:\\Users\\Azka\\OneDrive\\Desktop\\xyz\\4_5956172861256239923.csv\",encoding = \"Latin-1\")\n",
    "classdata"
   ]
  },
  {
   "cell_type": "code",
   "execution_count": 2,
   "id": "a64aa2a4",
   "metadata": {},
   "outputs": [
    {
     "data": {
      "image/png": "[encoded data removed]",
      "text/plain": [
       "<Figure size 432x288 with 1 Axes>"
      ]
     },
     "metadata": {
      "needs_background": "light"
     },
     "output_type": "display_data"
    },
    {
     "data": {
      "text/plain": [
       "<Figure size 720x576 with 0 Axes>"
      ]
     },
     "metadata": {},
     "output_type": "display_data"
    }
   ],
   "source": [
    "#draw a line plot\n",
    "sns.lineplot(x=\"Light kitni der band hti hy? int\",y=\"How many hours you code a day? (int) e.g: 5,4,3\",data=classdata)\n",
    "#adding title\n",
    "plt.title(\"classdata\")\n",
    "#adding limits if required\n",
    "plt.xlim(1,20)\n",
    "plt.ylim(1,6)\n",
    "#editing figure size if required\n",
    "plt.figure(figsize=(10,8))\n",
    "#set style(darkgrid,whitegrid,dark,white,ticks)if suitable \n",
    "sns.set_style(\"dark\")\n",
    "sns.set_style(style=None, rc=None)\n",
    "#show the plot\n",
    "plt.show()"
   ]
  },
  {
   "cell_type": "code",
   "execution_count": 3,
   "id": "14e721f1",
   "metadata": {},
   "outputs": [
    {
     "data": {
      "image/png": "[encoded data removed]",
      "text/plain": [
       "<Figure size 432x288 with 1 Axes>"
      ]
     },
     "metadata": {},
     "output_type": "display_data"
    },
    {
     "data": {
      "text/plain": [
       "<Figure size 720x576 with 0 Axes>"
      ]
     },
     "metadata": {},
     "output_type": "display_data"
    }
   ],
   "source": [
    "#draw a bar plot\n",
    "sns.boxplot(x=\"Are you Vaccinated?\",y=\"How many hours you code a day? (int) e.g: 5,4,3\",data=classdata)\n",
    "#adding title\n",
    "plt.title(\"classdata\")\n",
    "#adding limits if required\n",
    "# plt.xlim(1,20)\n",
    "# plt.ylim(1,6)\n",
    "#editing figure size if required\n",
    "plt.figure(figsize=(10,8))\n",
    "#set style(darkgrid,whitegrid,dark,white,ticks)if suitable \n",
    "sns.set_style(\"dark\")\n",
    "sns.set_style(style=None, rc=None)\n",
    "#show the plot\n",
    "plt.show()"
   ]
  },
  {
   "cell_type": "code",
   "execution_count": 5,
   "id": "7afbd129",
   "metadata": {},
   "outputs": [
    {
     "data": {
      "image/png": "[encoded data removed]",
      "text/plain": [
       "<Figure size 432x288 with 1 Axes>"
      ]
     },
     "metadata": {},
     "output_type": "display_data"
    },
    {
     "data": {
      "text/plain": [
       "<Figure size 720x576 with 0 Axes>"
      ]
     },
     "metadata": {},
     "output_type": "display_data"
    }
   ],
   "source": [
    "#draw a bar plot\n",
    "sns.barplot(x=\"Are you Vaccinated?\",y=\"Age (years)-Float/Int\",hue=\"Where do you live?\",\n",
    "            data=classdata,color=\"red\",\n",
    "            ci=None,palette=\"gist_rainbow\",saturation=1)\n",
    "#adding title\n",
    "plt.title(\"classdata\")\n",
    "#adding limits if required\n",
    "# plt.xlim(1,20)\n",
    "# plt.ylim(1,6)\n",
    "#editing figure size if required\n",
    "plt.figure(figsize=(10,8))\n",
    "#set style(darkgrid,whitegrid,dark,white,ticks)if suitable \n",
    "sns.set_style(\"dark\")\n",
    "sns.set_style(style=None, rc=None)\n",
    "#show the plot\n",
    "plt.show()"
   ]
  },
  {
   "cell_type": "code",
   "execution_count": 6,
   "id": "c38d0664",
   "metadata": {},
   "outputs": [
    {
     "data": {
      "image/png": "[encoded data removed]",
      "text/plain": [
       "<Figure size 432x288 with 1 Axes>"
      ]
     },
     "metadata": {},
     "output_type": "display_data"
    },
    {
     "data": {
      "text/plain": [
       "<Figure size 720x576 with 0 Axes>"
      ]
     },
     "metadata": {},
     "output_type": "display_data"
    }
   ],
   "source": [
    "#draw a bax plot\n",
    "sns.boxplot(x=\"Are you Vaccinated?\",y=\"Age (years)-Float/Int\",hue=\"Where do you live?\",\n",
    "            data=classdata,color=\"#ba68d4\",saturation=1)\n",
    "#adding title\n",
    "plt.title(\"classdata\")\n",
    "#adding limits if required\n",
    "# plt.xlim(1,20)\n",
    "# plt.ylim(1,6)\n",
    "#editing figure size if required\n",
    "plt.figure(figsize=(10,8))\n",
    "#set style(darkgrid,whitegrid,dark,white,ticks)if suitable \n",
    "sns.set_style(\"dark\")\n",
    "sns.set_style(style=None, rc=None)\n",
    "#show the plot\n",
    "plt.show()"
   ]
  },
  {
   "cell_type": "code",
   "execution_count": 14,
   "id": "f3c04d52",
   "metadata": {
    "scrolled": true
   },
   "outputs": [
    {
     "data": {
      "application/vnd.plotly.v1+json": {
       "config": {
        "plotlyServerURL": "https://plot.ly"
       },
       "data": [
        {
         "customdata": [
          [
           3
          ],
          [
           2
          ],
          [
           3
          ],
          [
           6
          ],
          [
           1
          ],
          [
           1
          ],
          [
           1
          ],
          [
           2
          ],
          [
           2
          ],
          [
           1
          ],
          [
           3
          ],
          [
           3
          ],
          [
           2
          ],
          [
           3
          ],
          [
           6
          ],
          [
           3
          ],
          [
           3
          ],
          [
           2
          ],
          [
           2
          ],
          [
           4
          ],
          [
           2
          ],
          [
           3
          ],
          [
           1
          ],
          [
           2
          ],
          [
           4
          ],
          [
           1
          ],
          [
           1
          ],
          [
           4
          ],
          [
           3
          ],
          [
           4
          ],
          [
           9
          ],
          [
           3
          ],
          [
           1
          ],
          [
           2
          ],
          [
           3
          ],
          [
           3
          ],
          [
           3
          ],
          [
           1
          ],
          [
           6
          ],
          [
           5
          ],
          [
           2
          ],
          [
           1
          ],
          [
           5
          ],
          [
           2
          ],
          [
           5
          ],
          [
           1
          ],
          [
           1
          ],
          [
           2
          ],
          [
           5
          ],
          [
           1
          ],
          [
           3
          ],
          [
           3
          ],
          [
           2
          ],
          [
           4
          ],
          [
           2
          ],
          [
           3
          ],
          [
           2
          ],
          [
           1
          ],
          [
           1
          ],
          [
           3
          ],
          [
           2
          ],
          [
           4
          ],
          [
           3
          ],
          [
           4
          ],
          [
           5
          ],
          [
           4
          ],
          [
           1
          ],
          [
           1
          ],
          [
           3
          ],
          [
           2
          ],
          [
           3
          ],
          [
           4
          ],
          [
           1
          ],
          [
           5
          ],
          [
           1
          ],
          [
           4
          ],
          [
           2
          ],
          [
           2
          ],
          [
           2
          ],
          [
           6
          ],
          [
           5
          ],
          [
           4
          ],
          [
           5
          ],
          [
           1
          ],
          [
           6
          ],
          [
           2
          ],
          [
           1
          ],
          [
           1
          ],
          [
           3
          ],
          [
           9
          ],
          [
           5
          ],
          [
           5
          ],
          [
           1
          ],
          [
           2
          ],
          [
           2
          ],
          [
           3
          ],
          [
           1
          ],
          [
           1
          ],
          [
           4
          ],
          [
           1
          ],
          [
           4
          ],
          [
           3
          ],
          [
           2
          ],
          [
           1
          ],
          [
           3
          ],
          [
           2
          ],
          [
           3
          ],
          [
           2
          ],
          [
           2
          ],
          [
           5
          ],
          [
           1
          ],
          [
           3
          ],
          [
           3
          ],
          [
           5
          ],
          [
           1
          ],
          [
           6
          ],
          [
           3
          ],
          [
           2
          ],
          [
           3
          ],
          [
           3
          ],
          [
           5
          ],
          [
           5
          ],
          [
           4
          ],
          [
           3
          ],
          [
           3
          ],
          [
           3
          ],
          [
           3
          ],
          [
           2
          ],
          [
           3
          ],
          [
           2
          ],
          [
           3
          ],
          [
           17
          ],
          [
           2
          ],
          [
           3
          ],
          [
           2
          ],
          [
           3
          ],
          [
           2
          ],
          [
           5
          ],
          [
           2
          ],
          [
           4
          ],
          [
           4
          ],
          [
           4
          ],
          [
           3
          ],
          [
           7
          ],
          [
           1
          ],
          [
           2
          ],
          [
           5
          ],
          [
           3
          ],
          [
           2
          ],
          [
           1
          ],
          [
           3
          ],
          [
           3
          ],
          [
           16
          ],
          [
           5
          ],
          [
           1
          ],
          [
           1
          ],
          [
           4
          ],
          [
           3
          ],
          [
           3
          ],
          [
           1
          ],
          [
           3
          ],
          [
           1
          ],
          [
           1
          ],
          [
           4
          ],
          [
           3
          ],
          [
           10
          ],
          [
           4
          ],
          [
           2
          ],
          [
           3
          ]
         ],
         "hovertemplate": "Qualification_completed=Masters<br>Age (years)-Float/Int=%{x}<br>Your Weight in kg? (float)=%{y}<br>Light kitni der band hti hy? int=%{marker.size}<br>How many hours you code a day? (int) e.g: 5,4,3=%{customdata[0]}<extra></extra>",
         "legendgroup": "Masters",
         "marker": {
          "color": "#636efa",
          "size": [
           2,
           0,
           24,
           12,
           0,
           2,
           0,
           0,
           0,
           0,
           3,
           2,
           1,
           0,
           2,
           1,
           2,
           0,
           0,
           4,
           8,
           0,
           0,
           2,
           1,
           1,
           0,
           2,
           2,
           4,
           3,
           0,
           1,
           0,
           0,
           6,
           6,
           22,
           0,
           3,
           0,
           0,
           0,
           0,
           0,
           3,
           20,
           0,
           5,
           4,
           5,
           1,
           0,
           1,
           1,
           0,
           1,
           0,
           3,
           4,
           3,
           5,
           5,
           0,
           0,
           0,
           0,
           3,
           0,
           2,
           0,
           0,
           8,
           1,
           1,
           4,
           1,
           2,
           0,
           23,
           1,
           3,
           5,
           0,
           0,
           0,
           2,
           0,
           2,
           0,
           5,
           5,
           9,
           6,
           1,
           3,
           0,
           2,
           0,
           2,
           1,
           2,
           5,
           5,
           5,
           0,
           0,
           2,
           16,
           20,
           3,
           0,
           5,
           3,
           1,
           0,
           1,
           0,
           2,
           2,
           72,
           1,
           1,
           5,
           0,
           0,
           2,
           0,
           2,
           0,
           1,
           2,
           0,
           1,
           3,
           6,
           5,
           0,
           0,
           2,
           2,
           0,
           36,
           2,
           0,
           5,
           72,
           5,
           3,
           0,
           6,
           0,
           1,
           6,
           2,
           3,
           3,
           3,
           6,
           0,
           0,
           5,
           2,
           0,
           6,
           4,
           3,
           1,
           0
          ],
          "sizemode": "area",
          "sizeref": 0.18,
          "symbol": "circle"
         },
         "mode": "markers",
         "name": "Masters",
         "orientation": "v",
         "showlegend": true,
         "type": "scatter",
         "x": [
          38,
          31.34,
          33,
          27,
          36,
          0,
          27,
          28,
          25,
          33,
          31,
          27.9,
          23,
          28,
          26,
          31,
          33,
          26,
          32.75,
          28,
          29,
          27,
          25,
          36,
          38,
          35,
          32,
          32,
          26.5,
          27.75,
          28,
          29.8,
          33,
          35,
          28,
          32.2,
          24.6,
          0,
          27.9,
          30.4,
          31,
          27,
          28.11,
          32.8,
          26.5,
          40,
          42,
          29,
          24,
          43,
          26,
          29.25,
          26,
          41,
          30,
          29,
          29,
          43,
          44.8,
          27.5,
          26,
          27,
          39.5,
          30,
          29,
          29,
          29,
          24,
          25,
          28,
          34.25,
          27,
          33,
          23.5,
          26,
          27,
          28,
          25,
          31.5,
          32,
          24,
          28,
          25,
          26,
          30,
          33,
          26,
          34,
          34,
          30.4,
          30.1,
          29,
          38,
          30,
          31.04,
          40,
          30,
          31,
          29,
          30,
          26,
          25,
          27,
          33,
          29,
          33,
          35,
          27.5,
          27,
          34.9,
          22,
          26,
          25,
          22.9,
          28,
          30.5,
          31,
          35,
          35.11,
          23,
          31,
          46.4,
          30,
          32,
          28,
          36.5,
          0,
          31,
          43,
          25,
          25,
          35,
          29,
          42,
          26,
          34,
          26.5,
          30,
          32,
          27,
          26,
          26,
          37,
          26,
          27.3,
          29,
          31,
          26,
          32,
          10.5,
          27.5,
          25,
          42,
          26,
          33,
          31,
          35,
          29,
          28,
          38,
          31,
          32,
          25,
          28,
          22,
          30,
          28,
          29,
          31
         ],
         "xaxis": "x",
         "y": [
          77,
          93,
          60,
          59.9,
          99,
          58,
          50,
          64.21,
          68.5,
          75.8,
          72.5,
          60,
          67,
          68.3,
          96,
          75,
          84,
          47,
          72.5,
          50,
          62.5,
          88.6,
          60,
          100.5,
          93.9,
          78.9,
          60,
          70,
          65,
          85.6,
          100,
          75.4,
          98,
          75.5,
          78.5,
          70.2,
          63.4,
          68,
          63.5,
          88,
          98,
          55.5,
          68.3,
          88.4,
          82.5,
          83.5,
          90,
          77.5,
          42.6,
          70,
          55,
          93.5,
          106.05,
          97,
          79.5,
          80,
          75.6,
          82.5,
          70.5,
          56,
          75.5,
          61.5,
          54.3,
          56.9,
          69,
          56.5,
          50.2,
          54,
          68,
          46,
          82.27,
          57,
          101.5,
          94.5,
          86.5,
          63.5,
          75,
          67,
          71.5,
          74,
          55,
          70,
          48.2,
          105,
          69.5,
          85,
          56.5,
          70.5,
          78.5,
          82.4,
          55,
          45,
          70.2,
          78.8,
          58.1,
          80,
          65,
          70,
          65.5,
          75.45,
          68.5,
          60,
          70,
          63,
          65,
          85,
          84,
          46.5,
          110,
          88,
          68,
          65,
          61,
          7,
          84,
          40,
          76.6,
          80,
          78.5,
          58,
          90,
          90,
          54.5,
          72.5,
          65,
          78.5,
          51,
          58,
          87,
          74,
          82,
          46.9,
          50.2,
          70,
          45,
          48,
          72,
          61,
          55,
          58,
          88.8,
          45.5,
          69.1,
          58,
          66.5,
          92,
          90,
          65.6,
          58,
          79.75,
          92,
          75,
          75,
          76,
          80.2,
          60.5,
          78,
          90,
          70,
          84,
          63,
          55,
          75,
          85,
          48,
          75.55,
          70.5,
          86,
          54.5
         ],
         "yaxis": "y"
        },
        {
         "customdata": [
          [
           2
          ],
          [
           3
          ],
          [
           3
          ],
          [
           3
          ],
          [
           4
          ],
          [
           4
          ],
          [
           4
          ],
          [
           3
          ],
          [
           3
          ],
          [
           5
          ],
          [
           1
          ],
          [
           3
          ],
          [
           4
          ],
          [
           2
          ],
          [
           1
          ],
          [
           4
          ],
          [
           1
          ],
          [
           1
          ],
          [
           4
          ],
          [
           3
          ],
          [
           1
          ],
          [
           3
          ],
          [
           8
          ],
          [
           1
          ],
          [
           2
          ],
          [
           3
          ],
          [
           4
          ],
          [
           3
          ],
          [
           5
          ],
          [
           2
          ],
          [
           0
          ],
          [
           1
          ],
          [
           4
          ],
          [
           1.5
          ],
          [
           1
          ],
          [
           4
          ],
          [
           4
          ],
          [
           3
          ],
          [
           1
          ],
          [
           2
          ],
          [
           2
          ],
          [
           3
          ],
          [
           2
          ],
          [
           5
          ],
          [
           1
          ],
          [
           7
          ],
          [
           3
          ],
          [
           2
          ],
          [
           2
          ],
          [
           4
          ],
          [
           8
          ],
          [
           4
          ],
          [
           3
          ],
          [
           2
          ],
          [
           5
          ],
          [
           1
          ],
          [
           2
          ],
          [
           1
          ],
          [
           3
          ],
          [
           1
          ],
          [
           2
          ],
          [
           5
          ],
          [
           5
          ],
          [
           3
          ],
          [
           3
          ],
          [
           0.5
          ],
          [
           1
          ],
          [
           1
          ],
          [
           1
          ],
          [
           2
          ],
          [
           4
          ],
          [
           2
          ],
          [
           5
          ],
          [
           3
          ],
          [
           3
          ],
          [
           2
          ],
          [
           3
          ],
          [
           2
          ],
          [
           3
          ],
          [
           3
          ],
          [
           1
          ],
          [
           2
          ],
          [
           4
          ],
          [
           3
          ],
          [
           2.5
          ],
          [
           5
          ],
          [
           1
          ],
          [
           3
          ],
          [
           3
          ],
          [
           4
          ],
          [
           3
          ],
          [
           4
          ],
          [
           3
          ],
          [
           1
          ],
          [
           1
          ],
          [
           4
          ],
          [
           4
          ],
          [
           3
          ],
          [
           2
          ],
          [
           0.5
          ],
          [
           1
          ],
          [
           3
          ],
          [
           3
          ],
          [
           4
          ],
          [
           5
          ],
          [
           6
          ],
          [
           3
          ],
          [
           6
          ],
          [
           4
          ],
          [
           1
          ],
          [
           1
          ],
          [
           0
          ],
          [
           3
          ],
          [
           1
          ],
          [
           2
          ],
          [
           3
          ],
          [
           2
          ],
          [
           3
          ],
          [
           4
          ],
          [
           2
          ],
          [
           1
          ],
          [
           1
          ],
          [
           4
          ],
          [
           3
          ],
          [
           3
          ],
          [
           3
          ],
          [
           5
          ],
          [
           5
          ],
          [
           2
          ],
          [
           2
          ],
          [
           3
          ],
          [
           1
          ],
          [
           0
          ]
         ],
         "hovertemplate": "Qualification_completed=Bachelors<br>Age (years)-Float/Int=%{x}<br>Your Weight in kg? (float)=%{y}<br>Light kitni der band hti hy? int=%{marker.size}<br>How many hours you code a day? (int) e.g: 5,4,3=%{customdata[0]}<extra></extra>",
         "legendgroup": "Bachelors",
         "marker": {
          "color": "#EF553B",
          "size": [
           6,
           0,
           0,
           0,
           2,
           0,
           5,
           0,
           2,
           0,
           0,
           4,
           4,
           2,
           0,
           0,
           5,
           0,
           0,
           1,
           0,
           2,
           4,
           2,
           1,
           8,
           5,
           0,
           3,
           4,
           0,
           4,
           5,
           0,
           0,
           3,
           12,
           12,
           8,
           0,
           3,
           2,
           2,
           1,
           0,
           24,
           2,
           1,
           18,
           0,
           6,
           3,
           6,
           2,
           2,
           0,
           2,
           0,
           2,
           4,
           0,
           0,
           3,
           0,
           1,
           2,
           0,
           8,
           0,
           0,
           0,
           5,
           1,
           0,
           8,
           6,
           2,
           0,
           0,
           3,
           2,
           1,
           1,
           2,
           5,
           3,
           1,
           16,
           2,
           6,
           0,
           2,
           2,
           12,
           0,
           5,
           1,
           3,
           8,
           0,
           2,
           20,
           2,
           0,
           2,
           8,
           0,
           0,
           10,
           3,
           0,
           8,
           5,
           0,
           1,
           4,
           4,
           18,
           0,
           0,
           3,
           4,
           3,
           1,
           5,
           0,
           0,
           15,
           7,
           0,
           1,
           1,
           0
          ],
          "sizemode": "area",
          "sizeref": 0.18,
          "symbol": "circle"
         },
         "mode": "markers",
         "name": "Bachelors",
         "orientation": "v",
         "showlegend": true,
         "type": "scatter",
         "x": [
          25,
          27,
          22.2,
          24,
          24,
          33,
          25,
          25,
          24,
          25,
          33,
          26,
          29,
          24.3,
          31,
          34,
          28,
          26.3,
          25,
          26,
          39,
          29,
          23.99,
          25,
          26,
          24,
          25,
          19,
          22,
          32,
          28,
          25,
          90,
          23,
          25,
          26.11,
          24,
          22.6,
          27,
          24,
          29,
          25,
          23,
          30,
          2,
          25,
          22,
          24,
          26,
          51,
          23,
          25,
          28.1,
          22,
          27,
          28,
          33,
          24.1,
          26,
          22,
          25,
          26,
          26,
          24,
          22,
          19.8,
          33,
          20,
          23,
          23,
          21,
          25,
          26,
          28,
          29,
          28,
          23,
          25.2,
          24,
          24,
          29,
          23,
          25,
          26.3,
          26.95,
          30,
          23,
          24.6,
          28,
          23,
          32,
          29,
          24,
          20,
          25,
          21,
          23.4,
          22,
          25,
          25,
          25,
          32,
          24,
          24,
          32,
          28,
          22,
          21,
          25,
          40.1,
          22,
          26,
          21,
          26.5,
          27,
          30,
          32,
          24,
          29,
          26.6,
          36,
          27,
          23,
          26,
          27,
          32,
          29,
          28,
          29,
          24,
          24,
          33,
          22.8
         ],
         "xaxis": "x",
         "y": [
          53.6,
          100,
          76.8,
          84,
          88.2,
          72,
          130,
          69,
          83.5,
          69.5,
          72,
          55.5,
          78,
          93.5,
          64,
          87.5,
          50,
          71.2,
          105.5,
          89,
          71,
          88.2,
          57.5,
          62,
          69,
          43,
          75,
          50,
          39.5,
          72,
          79,
          84,
          90,
          67.9,
          76,
          76,
          48,
          67.4,
          54,
          60.5,
          74,
          86,
          41.2,
          61,
          70,
          52.27,
          60,
          65,
          68,
          70.5,
          62,
          43,
          60.5,
          60,
          72,
          70,
          78,
          65.8,
          68,
          60,
          47.5,
          90.2,
          90,
          52,
          55,
          74,
          68,
          50,
          53,
          59.5,
          58.5,
          75,
          65,
          161,
          70,
          72.5,
          65,
          135,
          100,
          68,
          65,
          60.2,
          57,
          65.7,
          74,
          80,
          70.85,
          56.61,
          63.5,
          50,
          85,
          66,
          56,
          53,
          42,
          52.1,
          59.5,
          58,
          46,
          114,
          64,
          86,
          65,
          55,
          54.5,
          46,
          31.75,
          67,
          65,
          86.34,
          70,
          64,
          52.1,
          67.5,
          60.5,
          55.5,
          72,
          54,
          66,
          68.7,
          68.5,
          78,
          50,
          50,
          67,
          85,
          66.5,
          70,
          82,
          60,
          70,
          83.4,
          60
         ],
         "yaxis": "y"
        },
        {
         "customdata": [
          [
           5
          ],
          [
           2
          ],
          [
           3
          ],
          [
           3
          ],
          [
           3
          ],
          [
           5
          ],
          [
           4
          ],
          [
           3
          ],
          [
           2
          ],
          [
           2
          ],
          [
           2
          ],
          [
           2
          ],
          [
           4
          ],
          [
           5
          ],
          [
           1
          ],
          [
           4
          ],
          [
           1
          ],
          [
           3
          ],
          [
           3
          ],
          [
           3
          ],
          [
           2
          ],
          [
           0
          ],
          [
           3
          ],
          [
           2
          ],
          [
           3
          ],
          [
           3
          ],
          [
           4
          ],
          [
           2
          ]
         ],
         "hovertemplate": "Qualification_completed=PhD<br>Age (years)-Float/Int=%{x}<br>Your Weight in kg? (float)=%{y}<br>Light kitni der band hti hy? int=%{marker.size}<br>How many hours you code a day? (int) e.g: 5,4,3=%{customdata[0]}<extra></extra>",
         "legendgroup": "PhD",
         "marker": {
          "color": "#00cc96",
          "size": [
           0,
           0,
           8,
           1,
           9,
           1,
           0,
           0,
           2,
           16,
           0,
           2,
           2,
           7,
           8,
           3,
           0,
           0,
           8,
           2,
           16,
           1,
           0,
           4,
           6,
           18,
           0,
           0
          ],
          "sizemode": "area",
          "sizeref": 0.18,
          "symbol": "circle"
         },
         "mode": "markers",
         "name": "PhD",
         "orientation": "v",
         "showlegend": true,
         "type": "scatter",
         "x": [
          25,
          30,
          33,
          30,
          30,
          33.9,
          30,
          31,
          33,
          30,
          27,
          37,
          30.5,
          27,
          31.2,
          31.8,
          31,
          31.5,
          28,
          32,
          31,
          68,
          29,
          31,
          37,
          25,
          29,
          32.7
         ],
         "xaxis": "x",
         "y": [
          78,
          74.5,
          70.2,
          65.5,
          60,
          97.5,
          85,
          80,
          82,
          80,
          104.5,
          77,
          89.5,
          65.21,
          72,
          65.5,
          72,
          82.5,
          68.5,
          79,
          85,
          68,
          54,
          65,
          65,
          80,
          65,
          85.5
         ],
         "yaxis": "y"
        },
        {
         "customdata": [
          [
           1
          ],
          [
           1
          ],
          [
           1
          ],
          [
           2
          ],
          [
           2
          ],
          [
           3
          ],
          [
           4
          ],
          [
           2
          ],
          [
           3
          ],
          [
           2
          ],
          [
           3
          ],
          [
           6
          ],
          [
           2
          ],
          [
           0.01
          ],
          [
           1
          ],
          [
           8
          ],
          [
           1
          ],
          [
           3
          ],
          [
           4
          ],
          [
           3
          ],
          [
           3
          ],
          [
           1
          ],
          [
           2
          ],
          [
           5
          ],
          [
           2
          ],
          [
           3
          ],
          [
           3
          ],
          [
           3
          ],
          [
           1
          ],
          [
           2
          ],
          [
           2
          ],
          [
           10
          ],
          [
           5
          ],
          [
           1
          ],
          [
           11
          ],
          [
           3
          ],
          [
           0
          ],
          [
           18
          ],
          [
           3
          ],
          [
           3
          ],
          [
           3
          ],
          [
           3
          ],
          [
           3
          ],
          [
           2
          ],
          [
           3
          ]
         ],
         "hovertemplate": "Qualification_completed=Pre-Bachelors<br>Age (years)-Float/Int=%{x}<br>Your Weight in kg? (float)=%{y}<br>Light kitni der band hti hy? int=%{marker.size}<br>How many hours you code a day? (int) e.g: 5,4,3=%{customdata[0]}<extra></extra>",
         "legendgroup": "Pre-Bachelors",
         "marker": {
          "color": "#ab63fa",
          "size": [
           1,
           1,
           0,
           0,
           2,
           8,
           0,
           2,
           4,
           1,
           0,
           4,
           0,
           0,
           2,
           8,
           0,
           0,
           9,
           2,
           1,
           1,
           5,
           5,
           1,
           3,
           8,
           2,
           8,
           4,
           4,
           0,
           60,
           0,
           0,
           2,
           8,
           0,
           8,
           0,
           12,
           1,
           12,
           8,
           4
          ],
          "sizemode": "area",
          "sizeref": 0.18,
          "symbol": "circle"
         },
         "mode": "markers",
         "name": "Pre-Bachelors",
         "orientation": "v",
         "showlegend": true,
         "type": "scatter",
         "x": [
          22.5,
          21,
          21,
          20,
          18,
          21,
          19.5,
          21,
          20,
          22,
          18,
          21,
          20,
          20,
          21,
          19,
          21,
          21.6,
          19,
          22,
          22,
          20,
          23,
          24,
          23,
          20,
          19,
          21,
          23,
          20,
          22,
          14.2,
          22,
          21,
          16,
          21,
          21,
          11,
          22,
          22,
          20,
          21,
          19,
          20,
          20
         ],
         "xaxis": "x",
         "y": [
          63,
          55,
          52.5,
          75,
          52,
          63.5,
          52,
          50,
          64,
          68.5,
          57.4,
          71.5,
          48,
          75,
          59,
          55.2,
          50,
          68.5,
          75.5,
          63.5,
          68.2,
          67.12,
          85,
          50,
          75,
          68,
          52,
          60,
          55,
          53,
          48,
          30.5,
          48,
          48,
          60,
          92.4,
          72,
          45,
          49,
          64,
          64,
          60,
          60,
          70.5,
          64
         ],
         "yaxis": "y"
        }
       ],
       "layout": {
        "legend": {
         "itemsizing": "constant",
         "title": {
          "text": "Qualification_completed"
         },
         "tracegroupgap": 0
        },
        "margin": {
         "t": 60
        },
        "template": {
         "data": {
          "bar": [
           {
            "error_x": {
             "color": "#2a3f5f"
            },
            "error_y": {
             "color": "#2a3f5f"
            },
            "marker": {
             "line": {
              "color": "#E5ECF6",
              "width": 0.5
             },
             "pattern": {
              "fillmode": "overlay",
              "size": 10,
              "solidity": 0.2
             }
            },
            "type": "bar"
           }
          ],
          "barpolar": [
           {
            "marker": {
             "line": {
              "color": "#E5ECF6",
              "width": 0.5
             },
             "pattern": {
              "fillmode": "overlay",
              "size": 10,
              "solidity": 0.2
             }
            },
            "type": "barpolar"
           }
          ],
          "carpet": [
           {
            "aaxis": {
             "endlinecolor": "#2a3f5f",
             "gridcolor": "white",
             "linecolor": "white",
             "minorgridcolor": "white",
             "startlinecolor": "#2a3f5f"
            },
            "baxis": {
             "endlinecolor": "#2a3f5f",
             "gridcolor": "white",
             "linecolor": "white",
             "minorgridcolor": "white",
             "startlinecolor": "#2a3f5f"
            },
            "type": "carpet"
           }
          ],
          "choropleth": [
           {
            "colorbar": {
             "outlinewidth": 0,
             "ticks": ""
            },
            "type": "choropleth"
           }
          ],
          "contour": [
           {
            "colorbar": {
             "outlinewidth": 0,
             "ticks": ""
            },
            "colorscale": [
             [
              0,
              "#0d0887"
             ],
             [
              0.1111111111111111,
              "#46039f"
             ],
             [
              0.2222222222222222,
              "#7201a8"
             ],
             [
              0.3333333333333333,
              "#9c179e"
             ],
             [
              0.4444444444444444,
              "#bd3786"
             ],
             [
              0.5555555555555556,
              "#d8576b"
             ],
             [
              0.6666666666666666,
              "#ed7953"
             ],
             [
              0.7777777777777778,
              "#fb9f3a"
             ],
             [
              0.8888888888888888,
              "#fdca26"
             ],
             [
              1,
              "#f0f921"
             ]
            ],
            "type": "contour"
           }
          ],
          "contourcarpet": [
           {
            "colorbar": {
             "outlinewidth": 0,
             "ticks": ""
            },
            "type": "contourcarpet"
           }
          ],
          "heatmap": [
           {
            "colorbar": {
             "outlinewidth": 0,
             "ticks": ""
            },
            "colorscale": [
             [
              0,
              "#0d0887"
             ],
             [
              0.1111111111111111,
              "#46039f"
             ],
             [
              0.2222222222222222,
              "#7201a8"
             ],
             [
              0.3333333333333333,
              "#9c179e"
             ],
             [
              0.4444444444444444,
              "#bd3786"
             ],
             [
              0.5555555555555556,
              "#d8576b"
             ],
             [
              0.6666666666666666,
              "#ed7953"
             ],
             [
              0.7777777777777778,
              "#fb9f3a"
             ],
             [
              0.8888888888888888,
              "#fdca26"
             ],
             [
              1,
              "#f0f921"
             ]
            ],
            "type": "heatmap"
           }
          ],
          "heatmapgl": [
           {
            "colorbar": {
             "outlinewidth": 0,
             "ticks": ""
            },
            "colorscale": [
             [
              0,
              "#0d0887"
             ],
             [
              0.1111111111111111,
              "#46039f"
             ],
             [
              0.2222222222222222,
              "#7201a8"
             ],
             [
              0.3333333333333333,
              "#9c179e"
             ],
             [
              0.4444444444444444,
              "#bd3786"
             ],
             [
              0.5555555555555556,
              "#d8576b"
             ],
             [
              0.6666666666666666,
              "#ed7953"
             ],
             [
              0.7777777777777778,
              "#fb9f3a"
             ],
             [
              0.8888888888888888,
              "#fdca26"
             ],
             [
              1,
              "#f0f921"
             ]
            ],
            "type": "heatmapgl"
           }
          ],
          "histogram": [
           {
            "marker": {
             "pattern": {
              "fillmode": "overlay",
              "size": 10,
              "solidity": 0.2
             }
            },
            "type": "histogram"
           }
          ],
          "histogram2d": [
           {
            "colorbar": {
             "outlinewidth": 0,
             "ticks": ""
            },
            "colorscale": [
             [
              0,
              "#0d0887"
             ],
             [
              0.1111111111111111,
              "#46039f"
             ],
             [
              0.2222222222222222,
              "#7201a8"
             ],
             [
              0.3333333333333333,
              "#9c179e"
             ],
             [
              0.4444444444444444,
              "#bd3786"
             ],
             [
              0.5555555555555556,
              "#d8576b"
             ],
             [
              0.6666666666666666,
              "#ed7953"
             ],
             [
              0.7777777777777778,
              "#fb9f3a"
             ],
             [
              0.8888888888888888,
              "#fdca26"
             ],
             [
              1,
              "#f0f921"
             ]
            ],
            "type": "histogram2d"
           }
          ],
          "histogram2dcontour": [
           {
            "colorbar": {
             "outlinewidth": 0,
             "ticks": ""
            },
            "colorscale": [
             [
              0,
              "#0d0887"
             ],
             [
              0.1111111111111111,
              "#46039f"
             ],
             [
              0.2222222222222222,
              "#7201a8"
             ],
             [
              0.3333333333333333,
              "#9c179e"
             ],
             [
              0.4444444444444444,
              "#bd3786"
             ],
             [
              0.5555555555555556,
              "#d8576b"
             ],
             [
              0.6666666666666666,
              "#ed7953"
             ],
             [
              0.7777777777777778,
              "#fb9f3a"
             ],
             [
              0.8888888888888888,
              "#fdca26"
             ],
             [
              1,
              "#f0f921"
             ]
            ],
            "type": "histogram2dcontour"
           }
          ],
          "mesh3d": [
           {
            "colorbar": {
             "outlinewidth": 0,
             "ticks": ""
            },
            "type": "mesh3d"
           }
          ],
          "parcoords": [
           {
            "line": {
             "colorbar": {
              "outlinewidth": 0,
              "ticks": ""
             }
            },
            "type": "parcoords"
           }
          ],
          "pie": [
           {
            "automargin": true,
            "type": "pie"
           }
          ],
          "scatter": [
           {
            "marker": {
             "colorbar": {
              "outlinewidth": 0,
              "ticks": ""
             }
            },
            "type": "scatter"
           }
          ],
          "scatter3d": [
           {
            "line": {
             "colorbar": {
              "outlinewidth": 0,
              "ticks": ""
             }
            },
            "marker": {
             "colorbar": {
              "outlinewidth": 0,
              "ticks": ""
             }
            },
            "type": "scatter3d"
           }
          ],
          "scattercarpet": [
           {
            "marker": {
             "colorbar": {
              "outlinewidth": 0,
              "ticks": ""
             }
            },
            "type": "scattercarpet"
           }
          ],
          "scattergeo": [
           {
            "marker": {
             "colorbar": {
              "outlinewidth": 0,
              "ticks": ""
             }
            },
            "type": "scattergeo"
           }
          ],
          "scattergl": [
           {
            "marker": {
             "colorbar": {
              "outlinewidth": 0,
              "ticks": ""
             }
            },
            "type": "scattergl"
           }
          ],
          "scattermapbox": [
           {
            "marker": {
             "colorbar": {
              "outlinewidth": 0,
              "ticks": ""
             }
            },
            "type": "scattermapbox"
           }
          ],
          "scatterpolar": [
           {
            "marker": {
             "colorbar": {
              "outlinewidth": 0,
              "ticks": ""
             }
            },
            "type": "scatterpolar"
           }
          ],
          "scatterpolargl": [
           {
            "marker": {
             "colorbar": {
              "outlinewidth": 0,
              "ticks": ""
             }
            },
            "type": "scatterpolargl"
           }
          ],
          "scatterternary": [
           {
            "marker": {
             "colorbar": {
              "outlinewidth": 0,
              "ticks": ""
             }
            },
            "type": "scatterternary"
           }
          ],
          "surface": [
           {
            "colorbar": {
             "outlinewidth": 0,
             "ticks": ""
            },
            "colorscale": [
             [
              0,
              "#0d0887"
             ],
             [
              0.1111111111111111,
              "#46039f"
             ],
             [
              0.2222222222222222,
              "#7201a8"
             ],
             [
              0.3333333333333333,
              "#9c179e"
             ],
             [
              0.4444444444444444,
              "#bd3786"
             ],
             [
              0.5555555555555556,
              "#d8576b"
             ],
             [
              0.6666666666666666,
              "#ed7953"
             ],
             [
              0.7777777777777778,
              "#fb9f3a"
             ],
             [
              0.8888888888888888,
              "#fdca26"
             ],
             [
              1,
              "#f0f921"
             ]
            ],
            "type": "surface"
           }
          ],
          "table": [
           {
            "cells": {
             "fill": {
              "color": "#EBF0F8"
             },
             "line": {
              "color": "white"
             }
            },
            "header": {
             "fill": {
              "color": "#C8D4E3"
             },
             "line": {
              "color": "white"
             }
            },
            "type": "table"
           }
          ]
         },
         "layout": {
          "annotationdefaults": {
           "arrowcolor": "#2a3f5f",
           "arrowhead": 0,
           "arrowwidth": 1
          },
          "autotypenumbers": "strict",
          "coloraxis": {
           "colorbar": {
            "outlinewidth": 0,
            "ticks": ""
           }
          },
          "colorscale": {
           "diverging": [
            [
             0,
             "#8e0152"
            ],
            [
             0.1,
             "#c51b7d"
            ],
            [
             0.2,
             "#de77ae"
            ],
            [
             0.3,
             "#f1b6da"
            ],
            [
             0.4,
             "#fde0ef"
            ],
            [
             0.5,
             "#f7f7f7"
            ],
            [
             0.6,
             "#e6f5d0"
            ],
            [
             0.7,
             "#b8e186"
            ],
            [
             0.8,
             "#7fbc41"
            ],
            [
             0.9,
             "#4d9221"
            ],
            [
             1,
             "#276419"
            ]
           ],
           "sequential": [
            [
             0,
             "#0d0887"
            ],
            [
             0.1111111111111111,
             "#46039f"
            ],
            [
             0.2222222222222222,
             "#7201a8"
            ],
            [
             0.3333333333333333,
             "#9c179e"
            ],
            [
             0.4444444444444444,
             "#bd3786"
            ],
            [
             0.5555555555555556,
             "#d8576b"
            ],
            [
             0.6666666666666666,
             "#ed7953"
            ],
            [
             0.7777777777777778,
             "#fb9f3a"
            ],
            [
             0.8888888888888888,
             "#fdca26"
            ],
            [
             1,
             "#f0f921"
            ]
           ],
           "sequentialminus": [
            [
             0,
             "#0d0887"
            ],
            [
             0.1111111111111111,
             "#46039f"
            ],
            [
             0.2222222222222222,
             "#7201a8"
            ],
            [
             0.3333333333333333,
             "#9c179e"
            ],
            [
             0.4444444444444444,
             "#bd3786"
            ],
            [
             0.5555555555555556,
             "#d8576b"
            ],
            [
             0.6666666666666666,
             "#ed7953"
            ],
            [
             0.7777777777777778,
             "#fb9f3a"
            ],
            [
             0.8888888888888888,
             "#fdca26"
            ],
            [
             1,
             "#f0f921"
            ]
           ]
          },
          "colorway": [
           "#636efa",
           "#EF553B",
           "#00cc96",
           "#ab63fa",
           "#FFA15A",
           "#19d3f3",
           "#FF6692",
           "#B6E880",
           "#FF97FF",
           "#FECB52"
          ],
          "font": {
           "color": "#2a3f5f"
          },
          "geo": {
           "bgcolor": "white",
           "lakecolor": "white",
           "landcolor": "#E5ECF6",
           "showlakes": true,
           "showland": true,
           "subunitcolor": "white"
          },
          "hoverlabel": {
           "align": "left"
          },
          "hovermode": "closest",
          "mapbox": {
           "style": "light"
          },
          "paper_bgcolor": "white",
          "plot_bgcolor": "#E5ECF6",
          "polar": {
           "angularaxis": {
            "gridcolor": "white",
            "linecolor": "white",
            "ticks": ""
           },
           "bgcolor": "#E5ECF6",
           "radialaxis": {
            "gridcolor": "white",
            "linecolor": "white",
            "ticks": ""
           }
          },
          "scene": {
           "xaxis": {
            "backgroundcolor": "#E5ECF6",
            "gridcolor": "white",
            "gridwidth": 2,
            "linecolor": "white",
            "showbackground": true,
            "ticks": "",
            "zerolinecolor": "white"
           },
           "yaxis": {
            "backgroundcolor": "#E5ECF6",
            "gridcolor": "white",
            "gridwidth": 2,
            "linecolor": "white",
            "showbackground": true,
            "ticks": "",
            "zerolinecolor": "white"
           },
           "zaxis": {
            "backgroundcolor": "#E5ECF6",
            "gridcolor": "white",
            "gridwidth": 2,
            "linecolor": "white",
            "showbackground": true,
            "ticks": "",
            "zerolinecolor": "white"
           }
          },
          "shapedefaults": {
           "line": {
            "color": "#2a3f5f"
           }
          },
          "ternary": {
           "aaxis": {
            "gridcolor": "white",
            "linecolor": "white",
            "ticks": ""
           },
           "baxis": {
            "gridcolor": "white",
            "linecolor": "white",
            "ticks": ""
           },
           "bgcolor": "#E5ECF6",
           "caxis": {
            "gridcolor": "white",
            "linecolor": "white",
            "ticks": ""
           }
          },
          "title": {
           "x": 0.05
          },
          "xaxis": {
           "automargin": true,
           "gridcolor": "white",
           "linecolor": "white",
           "ticks": "",
           "title": {
            "standoff": 15
           },
           "zerolinecolor": "white",
           "zerolinewidth": 2
          },
          "yaxis": {
           "automargin": true,
           "gridcolor": "white",
           "linecolor": "white",
           "ticks": "",
           "title": {
            "standoff": 15
           },
           "zerolinecolor": "white",
           "zerolinewidth": 2
          }
         }
        },
        "xaxis": {
         "anchor": "y",
         "domain": [
          0,
          1
         ],
         "title": {
          "text": "Age (years)-Float/Int"
         }
        },
        "yaxis": {
         "anchor": "x",
         "domain": [
          0,
          1
         ],
         "title": {
          "text": "Your Weight in kg? (float)"
         }
        }
       }
      },
      "text/html": [
       "<div>                            <div id=\"94c9e7bf-3dce-4793-ac47-5f817354b1d4\" class=\"plotly-graph-div\" style=\"height:525px; width:100%;\"></div>            <script type=\"text/javascript\">                require([\"plotly\"], function(Plotly) {                    window.PLOTLYENV=window.PLOTLYENV || {};                                    if (document.getElementById(\"94c9e7bf-3dce-4793-ac47-5f817354b1d4\")) {                    Plotly.newPlot(                        \"94c9e7bf-3dce-4793-ac47-5f817354b1d4\",                        [{\"customdata\":[[3.0],[2.0],[3.0],[6.0],[1.0],[1.0],[1.0],[2.0],[2.0],[1.0],[3.0],[3.0],[2.0],[3.0],[6.0],[3.0],[3.0],[2.0],[2.0],[4.0],[2.0],[3.0],[1.0],[2.0],[4.0],[1.0],[1.0],[4.0],[3.0],[4.0],[9.0],[3.0],[1.0],[2.0],[3.0],[3.0],[3.0],[1.0],[6.0],[5.0],[2.0],[1.0],[5.0],[2.0],[5.0],[1.0],[1.0],[2.0],[5.0],[1.0],[3.0],[3.0],[2.0],[4.0],[2.0],[3.0],[2.0],[1.0],[1.0],[3.0],[2.0],[4.0],[3.0],[4.0],[5.0],[4.0],[1.0],[1.0],[3.0],[2.0],[3.0],[4.0],[1.0],[5.0],[1.0],[4.0],[2.0],[2.0],[2.0],[6.0],[5.0],[4.0],[5.0],[1.0],[6.0],[2.0],[1.0],[1.0],[3.0],[9.0],[5.0],[5.0],[1.0],[2.0],[2.0],[3.0],[1.0],[1.0],[4.0],[1.0],[4.0],[3.0],[2.0],[1.0],[3.0],[2.0],[3.0],[2.0],[2.0],[5.0],[1.0],[3.0],[3.0],[5.0],[1.0],[6.0],[3.0],[2.0],[3.0],[3.0],[5.0],[5.0],[4.0],[3.0],[3.0],[3.0],[3.0],[2.0],[3.0],[2.0],[3.0],[17.0],[2.0],[3.0],[2.0],[3.0],[2.0],[5.0],[2.0],[4.0],[4.0],[4.0],[3.0],[7.0],[1.0],[2.0],[5.0],[3.0],[2.0],[1.0],[3.0],[3.0],[16.0],[5.0],[1.0],[1.0],[4.0],[3.0],[3.0],[1.0],[3.0],[1.0],[1.0],[4.0],[3.0],[10.0],[4.0],[2.0],[3.0]],\"hovertemplate\":\"Qualification_completed=Masters<br>Age (years)-Float/Int=%{x}<br>Your Weight in kg? (float)=%{y}<br>Light kitni der band hti hy? int=%{marker.size}<br>How many hours you code a day? (int) e.g: 5,4,3=%{customdata[0]}<extra></extra>\",\"legendgroup\":\"Masters\",\"marker\":{\"color\":\"#636efa\",\"size\":[2,0,24,12,0,2,0,0,0,0,3,2,1,0,2,1,2,0,0,4,8,0,0,2,1,1,0,2,2,4,3,0,1,0,0,6,6,22,0,3,0,0,0,0,0,3,20,0,5,4,5,1,0,1,1,0,1,0,3,4,3,5,5,0,0,0,0,3,0,2,0,0,8,1,1,4,1,2,0,23,1,3,5,0,0,0,2,0,2,0,5,5,9,6,1,3,0,2,0,2,1,2,5,5,5,0,0,2,16,20,3,0,5,3,1,0,1,0,2,2,72,1,1,5,0,0,2,0,2,0,1,2,0,1,3,6,5,0,0,2,2,0,36,2,0,5,72,5,3,0,6,0,1,6,2,3,3,3,6,0,0,5,2,0,6,4,3,1,0],\"sizemode\":\"area\",\"sizeref\":0.18,\"symbol\":\"circle\"},\"mode\":\"markers\",\"name\":\"Masters\",\"orientation\":\"v\",\"showlegend\":true,\"x\":[38.0,31.34,33.0,27.0,36.0,0.0,27.0,28.0,25.0,33.0,31.0,27.9,23.0,28.0,26.0,31.0,33.0,26.0,32.75,28.0,29.0,27.0,25.0,36.0,38.0,35.0,32.0,32.0,26.5,27.75,28.0,29.8,33.0,35.0,28.0,32.2,24.6,0.0,27.9,30.4,31.0,27.0,28.11,32.8,26.5,40.0,42.0,29.0,24.0,43.0,26.0,29.25,26.0,41.0,30.0,29.0,29.0,43.0,44.8,27.5,26.0,27.0,39.5,30.0,29.0,29.0,29.0,24.0,25.0,28.0,34.25,27.0,33.0,23.5,26.0,27.0,28.0,25.0,31.5,32.0,24.0,28.0,25.0,26.0,30.0,33.0,26.0,34.0,34.0,30.4,30.1,29.0,38.0,30.0,31.04,40.0,30.0,31.0,29.0,30.0,26.0,25.0,27.0,33.0,29.0,33.0,35.0,27.5,27.0,34.9,22.0,26.0,25.0,22.9,28.0,30.5,31.0,35.0,35.11,23.0,31.0,46.4,30.0,32.0,28.0,36.5,0.0,31.0,43.0,25.0,25.0,35.0,29.0,42.0,26.0,34.0,26.5,30.0,32.0,27.0,26.0,26.0,37.0,26.0,27.3,29.0,31.0,26.0,32.0,10.5,27.5,25.0,42.0,26.0,33.0,31.0,35.0,29.0,28.0,38.0,31.0,32.0,25.0,28.0,22.0,30.0,28.0,29.0,31.0],\"xaxis\":\"x\",\"y\":[77.0,93.0,60.0,59.9,99.0,58.0,50.0,64.21,68.5,75.8,72.5,60.0,67.0,68.3,96.0,75.0,84.0,47.0,72.5,50.0,62.5,88.6,60.0,100.5,93.9,78.9,60.0,70.0,65.0,85.6,100.0,75.4,98.0,75.5,78.5,70.2,63.4,68.0,63.5,88.0,98.0,55.5,68.3,88.4,82.5,83.5,90.0,77.5,42.6,70.0,55.0,93.5,106.05,97.0,79.5,80.0,75.6,82.5,70.5,56.0,75.5,61.5,54.3,56.9,69.0,56.5,50.2,54.0,68.0,46.0,82.27,57.0,101.5,94.5,86.5,63.5,75.0,67.0,71.5,74.0,55.0,70.0,48.2,105.0,69.5,85.0,56.5,70.5,78.5,82.4,55.0,45.0,70.2,78.8,58.1,80.0,65.0,70.0,65.5,75.45,68.5,60.0,70.0,63.0,65.0,85.0,84.0,46.5,110.0,88.0,68.0,65.0,61.0,7.0,84.0,40.0,76.6,80.0,78.5,58.0,90.0,90.0,54.5,72.5,65.0,78.5,51.0,58.0,87.0,74.0,82.0,46.9,50.2,70.0,45.0,48.0,72.0,61.0,55.0,58.0,88.8,45.5,69.1,58.0,66.5,92.0,90.0,65.6,58.0,79.75,92.0,75.0,75.0,76.0,80.2,60.5,78.0,90.0,70.0,84.0,63.0,55.0,75.0,85.0,48.0,75.55,70.5,86.0,54.5],\"yaxis\":\"y\",\"type\":\"scatter\"},{\"customdata\":[[2.0],[3.0],[3.0],[3.0],[4.0],[4.0],[4.0],[3.0],[3.0],[5.0],[1.0],[3.0],[4.0],[2.0],[1.0],[4.0],[1.0],[1.0],[4.0],[3.0],[1.0],[3.0],[8.0],[1.0],[2.0],[3.0],[4.0],[3.0],[5.0],[2.0],[0.0],[1.0],[4.0],[1.5],[1.0],[4.0],[4.0],[3.0],[1.0],[2.0],[2.0],[3.0],[2.0],[5.0],[1.0],[7.0],[3.0],[2.0],[2.0],[4.0],[8.0],[4.0],[3.0],[2.0],[5.0],[1.0],[2.0],[1.0],[3.0],[1.0],[2.0],[5.0],[5.0],[3.0],[3.0],[0.5],[1.0],[1.0],[1.0],[2.0],[4.0],[2.0],[5.0],[3.0],[3.0],[2.0],[3.0],[2.0],[3.0],[3.0],[1.0],[2.0],[4.0],[3.0],[2.5],[5.0],[1.0],[3.0],[3.0],[4.0],[3.0],[4.0],[3.0],[1.0],[1.0],[4.0],[4.0],[3.0],[2.0],[0.5],[1.0],[3.0],[3.0],[4.0],[5.0],[6.0],[3.0],[6.0],[4.0],[1.0],[1.0],[0.0],[3.0],[1.0],[2.0],[3.0],[2.0],[3.0],[4.0],[2.0],[1.0],[1.0],[4.0],[3.0],[3.0],[3.0],[5.0],[5.0],[2.0],[2.0],[3.0],[1.0],[0.0]],\"hovertemplate\":\"Qualification_completed=Bachelors<br>Age (years)-Float/Int=%{x}<br>Your Weight in kg? (float)=%{y}<br>Light kitni der band hti hy? int=%{marker.size}<br>How many hours you code a day? (int) e.g: 5,4,3=%{customdata[0]}<extra></extra>\",\"legendgroup\":\"Bachelors\",\"marker\":{\"color\":\"#EF553B\",\"size\":[6,0,0,0,2,0,5,0,2,0,0,4,4,2,0,0,5,0,0,1,0,2,4,2,1,8,5,0,3,4,0,4,5,0,0,3,12,12,8,0,3,2,2,1,0,24,2,1,18,0,6,3,6,2,2,0,2,0,2,4,0,0,3,0,1,2,0,8,0,0,0,5,1,0,8,6,2,0,0,3,2,1,1,2,5,3,1,16,2,6,0,2,2,12,0,5,1,3,8,0,2,20,2,0,2,8,0,0,10,3,0,8,5,0,1,4,4,18,0,0,3,4,3,1,5,0,0,15,7,0,1,1,0],\"sizemode\":\"area\",\"sizeref\":0.18,\"symbol\":\"circle\"},\"mode\":\"markers\",\"name\":\"Bachelors\",\"orientation\":\"v\",\"showlegend\":true,\"x\":[25.0,27.0,22.2,24.0,24.0,33.0,25.0,25.0,24.0,25.0,33.0,26.0,29.0,24.3,31.0,34.0,28.0,26.3,25.0,26.0,39.0,29.0,23.99,25.0,26.0,24.0,25.0,19.0,22.0,32.0,28.0,25.0,90.0,23.0,25.0,26.11,24.0,22.6,27.0,24.0,29.0,25.0,23.0,30.0,2.0,25.0,22.0,24.0,26.0,51.0,23.0,25.0,28.1,22.0,27.0,28.0,33.0,24.1,26.0,22.0,25.0,26.0,26.0,24.0,22.0,19.8,33.0,20.0,23.0,23.0,21.0,25.0,26.0,28.0,29.0,28.0,23.0,25.2,24.0,24.0,29.0,23.0,25.0,26.3,26.95,30.0,23.0,24.6,28.0,23.0,32.0,29.0,24.0,20.0,25.0,21.0,23.4,22.0,25.0,25.0,25.0,32.0,24.0,24.0,32.0,28.0,22.0,21.0,25.0,40.1,22.0,26.0,21.0,26.5,27.0,30.0,32.0,24.0,29.0,26.6,36.0,27.0,23.0,26.0,27.0,32.0,29.0,28.0,29.0,24.0,24.0,33.0,22.8],\"xaxis\":\"x\",\"y\":[53.6,100.0,76.8,84.0,88.2,72.0,130.0,69.0,83.5,69.5,72.0,55.5,78.0,93.5,64.0,87.5,50.0,71.2,105.5,89.0,71.0,88.2,57.5,62.0,69.0,43.0,75.0,50.0,39.5,72.0,79.0,84.0,90.0,67.9,76.0,76.0,48.0,67.4,54.0,60.5,74.0,86.0,41.2,61.0,70.0,52.27,60.0,65.0,68.0,70.5,62.0,43.0,60.5,60.0,72.0,70.0,78.0,65.8,68.0,60.0,47.5,90.2,90.0,52.0,55.0,74.0,68.0,50.0,53.0,59.5,58.5,75.0,65.0,161.0,70.0,72.5,65.0,135.0,100.0,68.0,65.0,60.2,57.0,65.7,74.0,80.0,70.85,56.61,63.5,50.0,85.0,66.0,56.0,53.0,42.0,52.1,59.5,58.0,46.0,114.0,64.0,86.0,65.0,55.0,54.5,46.0,31.75,67.0,65.0,86.34,70.0,64.0,52.1,67.5,60.5,55.5,72.0,54.0,66.0,68.7,68.5,78.0,50.0,50.0,67.0,85.0,66.5,70.0,82.0,60.0,70.0,83.4,60.0],\"yaxis\":\"y\",\"type\":\"scatter\"},{\"customdata\":[[5.0],[2.0],[3.0],[3.0],[3.0],[5.0],[4.0],[3.0],[2.0],[2.0],[2.0],[2.0],[4.0],[5.0],[1.0],[4.0],[1.0],[3.0],[3.0],[3.0],[2.0],[0.0],[3.0],[2.0],[3.0],[3.0],[4.0],[2.0]],\"hovertemplate\":\"Qualification_completed=PhD<br>Age (years)-Float/Int=%{x}<br>Your Weight in kg? (float)=%{y}<br>Light kitni der band hti hy? int=%{marker.size}<br>How many hours you code a day? (int) e.g: 5,4,3=%{customdata[0]}<extra></extra>\",\"legendgroup\":\"PhD\",\"marker\":{\"color\":\"#00cc96\",\"size\":[0,0,8,1,9,1,0,0,2,16,0,2,2,7,8,3,0,0,8,2,16,1,0,4,6,18,0,0],\"sizemode\":\"area\",\"sizeref\":0.18,\"symbol\":\"circle\"},\"mode\":\"markers\",\"name\":\"PhD\",\"orientation\":\"v\",\"showlegend\":true,\"x\":[25.0,30.0,33.0,30.0,30.0,33.9,30.0,31.0,33.0,30.0,27.0,37.0,30.5,27.0,31.2,31.8,31.0,31.5,28.0,32.0,31.0,68.0,29.0,31.0,37.0,25.0,29.0,32.7],\"xaxis\":\"x\",\"y\":[78.0,74.5,70.2,65.5,60.0,97.5,85.0,80.0,82.0,80.0,104.5,77.0,89.5,65.21,72.0,65.5,72.0,82.5,68.5,79.0,85.0,68.0,54.0,65.0,65.0,80.0,65.0,85.5],\"yaxis\":\"y\",\"type\":\"scatter\"},{\"customdata\":[[1.0],[1.0],[1.0],[2.0],[2.0],[3.0],[4.0],[2.0],[3.0],[2.0],[3.0],[6.0],[2.0],[0.01],[1.0],[8.0],[1.0],[3.0],[4.0],[3.0],[3.0],[1.0],[2.0],[5.0],[2.0],[3.0],[3.0],[3.0],[1.0],[2.0],[2.0],[10.0],[5.0],[1.0],[11.0],[3.0],[0.0],[18.0],[3.0],[3.0],[3.0],[3.0],[3.0],[2.0],[3.0]],\"hovertemplate\":\"Qualification_completed=Pre-Bachelors<br>Age (years)-Float/Int=%{x}<br>Your Weight in kg? (float)=%{y}<br>Light kitni der band hti hy? int=%{marker.size}<br>How many hours you code a day? (int) e.g: 5,4,3=%{customdata[0]}<extra></extra>\",\"legendgroup\":\"Pre-Bachelors\",\"marker\":{\"color\":\"#ab63fa\",\"size\":[1,1,0,0,2,8,0,2,4,1,0,4,0,0,2,8,0,0,9,2,1,1,5,5,1,3,8,2,8,4,4,0,60,0,0,2,8,0,8,0,12,1,12,8,4],\"sizemode\":\"area\",\"sizeref\":0.18,\"symbol\":\"circle\"},\"mode\":\"markers\",\"name\":\"Pre-Bachelors\",\"orientation\":\"v\",\"showlegend\":true,\"x\":[22.5,21.0,21.0,20.0,18.0,21.0,19.5,21.0,20.0,22.0,18.0,21.0,20.0,20.0,21.0,19.0,21.0,21.6,19.0,22.0,22.0,20.0,23.0,24.0,23.0,20.0,19.0,21.0,23.0,20.0,22.0,14.2,22.0,21.0,16.0,21.0,21.0,11.0,22.0,22.0,20.0,21.0,19.0,20.0,20.0],\"xaxis\":\"x\",\"y\":[63.0,55.0,52.5,75.0,52.0,63.5,52.0,50.0,64.0,68.5,57.4,71.5,48.0,75.0,59.0,55.2,50.0,68.5,75.5,63.5,68.2,67.12,85.0,50.0,75.0,68.0,52.0,60.0,55.0,53.0,48.0,30.5,48.0,48.0,60.0,92.4,72.0,45.0,49.0,64.0,64.0,60.0,60.0,70.5,64.0],\"yaxis\":\"y\",\"type\":\"scatter\"}],                        {\"template\":{\"data\":{\"bar\":[{\"error_x\":{\"color\":\"#2a3f5f\"},\"error_y\":{\"color\":\"#2a3f5f\"},\"marker\":{\"line\":{\"color\":\"#E5ECF6\",\"width\":0.5},\"pattern\":{\"fillmode\":\"overlay\",\"size\":10,\"solidity\":0.2}},\"type\":\"bar\"}],\"barpolar\":[{\"marker\":{\"line\":{\"color\":\"#E5ECF6\",\"width\":0.5},\"pattern\":{\"fillmode\":\"overlay\",\"size\":10,\"solidity\":0.2}},\"type\":\"barpolar\"}],\"carpet\":[{\"aaxis\":{\"endlinecolor\":\"#2a3f5f\",\"gridcolor\":\"white\",\"linecolor\":\"white\",\"minorgridcolor\":\"white\",\"startlinecolor\":\"#2a3f5f\"},\"baxis\":{\"endlinecolor\":\"#2a3f5f\",\"gridcolor\":\"white\",\"linecolor\":\"white\",\"minorgridcolor\":\"white\",\"startlinecolor\":\"#2a3f5f\"},\"type\":\"carpet\"}],\"choropleth\":[{\"colorbar\":{\"outlinewidth\":0,\"ticks\":\"\"},\"type\":\"choropleth\"}],\"contour\":[{\"colorbar\":{\"outlinewidth\":0,\"ticks\":\"\"},\"colorscale\":[[0.0,\"#0d0887\"],[0.1111111111111111,\"#46039f\"],[0.2222222222222222,\"#7201a8\"],[0.3333333333333333,\"#9c179e\"],[0.4444444444444444,\"#bd3786\"],[0.5555555555555556,\"#d8576b\"],[0.6666666666666666,\"#ed7953\"],[0.7777777777777778,\"#fb9f3a\"],[0.8888888888888888,\"#fdca26\"],[1.0,\"#f0f921\"]],\"type\":\"contour\"}],\"contourcarpet\":[{\"colorbar\":{\"outlinewidth\":0,\"ticks\":\"\"},\"type\":\"contourcarpet\"}],\"heatmap\":[{\"colorbar\":{\"outlinewidth\":0,\"ticks\":\"\"},\"colorscale\":[[0.0,\"#0d0887\"],[0.1111111111111111,\"#46039f\"],[0.2222222222222222,\"#7201a8\"],[0.3333333333333333,\"#9c179e\"],[0.4444444444444444,\"#bd3786\"],[0.5555555555555556,\"#d8576b\"],[0.6666666666666666,\"#ed7953\"],[0.7777777777777778,\"#fb9f3a\"],[0.8888888888888888,\"#fdca26\"],[1.0,\"#f0f921\"]],\"type\":\"heatmap\"}],\"heatmapgl\":[{\"colorbar\":{\"outlinewidth\":0,\"ticks\":\"\"},\"colorscale\":[[0.0,\"#0d0887\"],[0.1111111111111111,\"#46039f\"],[0.2222222222222222,\"#7201a8\"],[0.3333333333333333,\"#9c179e\"],[0.4444444444444444,\"#bd3786\"],[0.5555555555555556,\"#d8576b\"],[0.6666666666666666,\"#ed7953\"],[0.7777777777777778,\"#fb9f3a\"],[0.8888888888888888,\"#fdca26\"],[1.0,\"#f0f921\"]],\"type\":\"heatmapgl\"}],\"histogram\":[{\"marker\":{\"pattern\":{\"fillmode\":\"overlay\",\"size\":10,\"solidity\":0.2}},\"type\":\"histogram\"}],\"histogram2d\":[{\"colorbar\":{\"outlinewidth\":0,\"ticks\":\"\"},\"colorscale\":[[0.0,\"#0d0887\"],[0.1111111111111111,\"#46039f\"],[0.2222222222222222,\"#7201a8\"],[0.3333333333333333,\"#9c179e\"],[0.4444444444444444,\"#bd3786\"],[0.5555555555555556,\"#d8576b\"],[0.6666666666666666,\"#ed7953\"],[0.7777777777777778,\"#fb9f3a\"],[0.8888888888888888,\"#fdca26\"],[1.0,\"#f0f921\"]],\"type\":\"histogram2d\"}],\"histogram2dcontour\":[{\"colorbar\":{\"outlinewidth\":0,\"ticks\":\"\"},\"colorscale\":[[0.0,\"#0d0887\"],[0.1111111111111111,\"#46039f\"],[0.2222222222222222,\"#7201a8\"],[0.3333333333333333,\"#9c179e\"],[0.4444444444444444,\"#bd3786\"],[0.5555555555555556,\"#d8576b\"],[0.6666666666666666,\"#ed7953\"],[0.7777777777777778,\"#fb9f3a\"],[0.8888888888888888,\"#fdca26\"],[1.0,\"#f0f921\"]],\"type\":\"histogram2dcontour\"}],\"mesh3d\":[{\"colorbar\":{\"outlinewidth\":0,\"ticks\":\"\"},\"type\":\"mesh3d\"}],\"parcoords\":[{\"line\":{\"colorbar\":{\"outlinewidth\":0,\"ticks\":\"\"}},\"type\":\"parcoords\"}],\"pie\":[{\"automargin\":true,\"type\":\"pie\"}],\"scatter\":[{\"marker\":{\"colorbar\":{\"outlinewidth\":0,\"ticks\":\"\"}},\"type\":\"scatter\"}],\"scatter3d\":[{\"line\":{\"colorbar\":{\"outlinewidth\":0,\"ticks\":\"\"}},\"marker\":{\"colorbar\":{\"outlinewidth\":0,\"ticks\":\"\"}},\"type\":\"scatter3d\"}],\"scattercarpet\":[{\"marker\":{\"colorbar\":{\"outlinewidth\":0,\"ticks\":\"\"}},\"type\":\"scattercarpet\"}],\"scattergeo\":[{\"marker\":{\"colorbar\":{\"outlinewidth\":0,\"ticks\":\"\"}},\"type\":\"scattergeo\"}],\"scattergl\":[{\"marker\":{\"colorbar\":{\"outlinewidth\":0,\"ticks\":\"\"}},\"type\":\"scattergl\"}],\"scattermapbox\":[{\"marker\":{\"colorbar\":{\"outlinewidth\":0,\"ticks\":\"\"}},\"type\":\"scattermapbox\"}],\"scatterpolar\":[{\"marker\":{\"colorbar\":{\"outlinewidth\":0,\"ticks\":\"\"}},\"type\":\"scatterpolar\"}],\"scatterpolargl\":[{\"marker\":{\"colorbar\":{\"outlinewidth\":0,\"ticks\":\"\"}},\"type\":\"scatterpolargl\"}],\"scatterternary\":[{\"marker\":{\"colorbar\":{\"outlinewidth\":0,\"ticks\":\"\"}},\"type\":\"scatterternary\"}],\"surface\":[{\"colorbar\":{\"outlinewidth\":0,\"ticks\":\"\"},\"colorscale\":[[0.0,\"#0d0887\"],[0.1111111111111111,\"#46039f\"],[0.2222222222222222,\"#7201a8\"],[0.3333333333333333,\"#9c179e\"],[0.4444444444444444,\"#bd3786\"],[0.5555555555555556,\"#d8576b\"],[0.6666666666666666,\"#ed7953\"],[0.7777777777777778,\"#fb9f3a\"],[0.8888888888888888,\"#fdca26\"],[1.0,\"#f0f921\"]],\"type\":\"surface\"}],\"table\":[{\"cells\":{\"fill\":{\"color\":\"#EBF0F8\"},\"line\":{\"color\":\"white\"}},\"header\":{\"fill\":{\"color\":\"#C8D4E3\"},\"line\":{\"color\":\"white\"}},\"type\":\"table\"}]},\"layout\":{\"annotationdefaults\":{\"arrowcolor\":\"#2a3f5f\",\"arrowhead\":0,\"arrowwidth\":1},\"autotypenumbers\":\"strict\",\"coloraxis\":{\"colorbar\":{\"outlinewidth\":0,\"ticks\":\"\"}},\"colorscale\":{\"diverging\":[[0,\"#8e0152\"],[0.1,\"#c51b7d\"],[0.2,\"#de77ae\"],[0.3,\"#f1b6da\"],[0.4,\"#fde0ef\"],[0.5,\"#f7f7f7\"],[0.6,\"#e6f5d0\"],[0.7,\"#b8e186\"],[0.8,\"#7fbc41\"],[0.9,\"#4d9221\"],[1,\"#276419\"]],\"sequential\":[[0.0,\"#0d0887\"],[0.1111111111111111,\"#46039f\"],[0.2222222222222222,\"#7201a8\"],[0.3333333333333333,\"#9c179e\"],[0.4444444444444444,\"#bd3786\"],[0.5555555555555556,\"#d8576b\"],[0.6666666666666666,\"#ed7953\"],[0.7777777777777778,\"#fb9f3a\"],[0.8888888888888888,\"#fdca26\"],[1.0,\"#f0f921\"]],\"sequentialminus\":[[0.0,\"#0d0887\"],[0.1111111111111111,\"#46039f\"],[0.2222222222222222,\"#7201a8\"],[0.3333333333333333,\"#9c179e\"],[0.4444444444444444,\"#bd3786\"],[0.5555555555555556,\"#d8576b\"],[0.6666666666666666,\"#ed7953\"],[0.7777777777777778,\"#fb9f3a\"],[0.8888888888888888,\"#fdca26\"],[1.0,\"#f0f921\"]]},\"colorway\":[\"#636efa\",\"#EF553B\",\"#00cc96\",\"#ab63fa\",\"#FFA15A\",\"#19d3f3\",\"#FF6692\",\"#B6E880\",\"#FF97FF\",\"#FECB52\"],\"font\":{\"color\":\"#2a3f5f\"},\"geo\":{\"bgcolor\":\"white\",\"lakecolor\":\"white\",\"landcolor\":\"#E5ECF6\",\"showlakes\":true,\"showland\":true,\"subunitcolor\":\"white\"},\"hoverlabel\":{\"align\":\"left\"},\"hovermode\":\"closest\",\"mapbox\":{\"style\":\"light\"},\"paper_bgcolor\":\"white\",\"plot_bgcolor\":\"#E5ECF6\",\"polar\":{\"angularaxis\":{\"gridcolor\":\"white\",\"linecolor\":\"white\",\"ticks\":\"\"},\"bgcolor\":\"#E5ECF6\",\"radialaxis\":{\"gridcolor\":\"white\",\"linecolor\":\"white\",\"ticks\":\"\"}},\"scene\":{\"xaxis\":{\"backgroundcolor\":\"#E5ECF6\",\"gridcolor\":\"white\",\"gridwidth\":2,\"linecolor\":\"white\",\"showbackground\":true,\"ticks\":\"\",\"zerolinecolor\":\"white\"},\"yaxis\":{\"backgroundcolor\":\"#E5ECF6\",\"gridcolor\":\"white\",\"gridwidth\":2,\"linecolor\":\"white\",\"showbackground\":true,\"ticks\":\"\",\"zerolinecolor\":\"white\"},\"zaxis\":{\"backgroundcolor\":\"#E5ECF6\",\"gridcolor\":\"white\",\"gridwidth\":2,\"linecolor\":\"white\",\"showbackground\":true,\"ticks\":\"\",\"zerolinecolor\":\"white\"}},\"shapedefaults\":{\"line\":{\"color\":\"#2a3f5f\"}},\"ternary\":{\"aaxis\":{\"gridcolor\":\"white\",\"linecolor\":\"white\",\"ticks\":\"\"},\"baxis\":{\"gridcolor\":\"white\",\"linecolor\":\"white\",\"ticks\":\"\"},\"bgcolor\":\"#E5ECF6\",\"caxis\":{\"gridcolor\":\"white\",\"linecolor\":\"white\",\"ticks\":\"\"}},\"title\":{\"x\":0.05},\"xaxis\":{\"automargin\":true,\"gridcolor\":\"white\",\"linecolor\":\"white\",\"ticks\":\"\",\"title\":{\"standoff\":15},\"zerolinecolor\":\"white\",\"zerolinewidth\":2},\"yaxis\":{\"automargin\":true,\"gridcolor\":\"white\",\"linecolor\":\"white\",\"ticks\":\"\",\"title\":{\"standoff\":15},\"zerolinecolor\":\"white\",\"zerolinewidth\":2}}},\"xaxis\":{\"anchor\":\"y\",\"domain\":[0.0,1.0],\"title\":{\"text\":\"Age (years)-Float/Int\"}},\"yaxis\":{\"anchor\":\"x\",\"domain\":[0.0,1.0],\"title\":{\"text\":\"Your Weight in kg? (float)\"}},\"legend\":{\"title\":{\"text\":\"Qualification_completed\"},\"tracegroupgap\":0,\"itemsizing\":\"constant\"},\"margin\":{\"t\":60}},                        {\"responsive\": true}                    ).then(function(){\n",
       "                            \n",
       "var gd = document.getElementById('94c9e7bf-3dce-4793-ac47-5f817354b1d4');\n",
       "var x = new MutationObserver(function (mutations, observer) {{\n",
       "        var display = window.getComputedStyle(gd).display;\n",
       "        if (!display || display === 'none') {{\n",
       "            console.log([gd, 'removed!']);\n",
       "            Plotly.purge(gd);\n",
       "            observer.disconnect();\n",
       "        }}\n",
       "}});\n",
       "\n",
       "// Listen for the removal of the full notebook cells\n",
       "var notebookContainer = gd.closest('#notebook-container');\n",
       "if (notebookContainer) {{\n",
       "    x.observe(notebookContainer, {childList: true});\n",
       "}}\n",
       "\n",
       "// Listen for the clearing of the current output cell\n",
       "var outputEl = gd.closest('.output');\n",
       "if (outputEl) {{\n",
       "    x.observe(outputEl, {childList: true});\n",
       "}}\n",
       "\n",
       "                        })                };                });            </script>        </div>"
      ]
     },
     "metadata": {},
     "output_type": "display_data"
    },
    {
     "data": {
      "text/plain": [
       "<Figure size 288x432 with 0 Axes>"
      ]
     },
     "metadata": {},
     "output_type": "display_data"
    }
   ],
   "source": [
    "import plotly.express as px\n",
    "df = classdata\n",
    "fig = px.scatter(df, x=\"Age (years)-Float/Int\", y=\"Your Weight in kg? (float)\", color=\"Qualification_completed\",\n",
    "                 size='Light kitni der band hti hy? int', hover_data=['How many hours you code a day? (int) e.g: 5,4,3'])\n",
    "plt.figure(figsize=(4,6))\n",
    "# fig.xlim(15,45)\n",
    "# fig.ylim(30,120)\n",
    "fig.show()\n"
   ]
  },
  {
   "cell_type": "code",
   "execution_count": null,
   "id": "e4faab7b",
   "metadata": {},
   "outputs": [],
   "source": []
  }
 ],
 "metadata": {
  "kernelspec": {
   "display_name": "Python 3 (ipykernel)",
   "language": "python",
   "name": "python3"
  },
  "language_info": {
   "codemirror_mode": {
    "name": "ipython",
    "version": 3
   },
   "file_extension": ".py",
   "mimetype": "text/x-python",
   "name": "python",
   "nbconvert_exporter": "python",
   "pygments_lexer": "ipython3",
   "version": "3.9.7"
  }
 },
 "nbformat": 4,
 "nbformat_minor": 5
}
