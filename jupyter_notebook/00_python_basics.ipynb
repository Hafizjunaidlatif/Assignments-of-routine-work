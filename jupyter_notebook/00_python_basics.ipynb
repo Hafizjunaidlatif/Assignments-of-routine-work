{
 "cells": [
  {
   "cell_type": "markdown",
   "id": "54337124",
   "metadata": {},
   "source": [
    "# PYTHON KA CHILLA BY BABA AMMAR\n",
    "## Basics of pythons"
   ]
  },
  {
   "cell_type": "markdown",
   "id": "6b6c54cf",
   "metadata": {},
   "source": [
    "###**01_first programming**"
   ]
  },
  {
   "cell_type": "code",
   "execution_count": 1,
   "id": "180328b8",
   "metadata": {},
   "outputs": [
    {
     "name": "stdout",
     "output_type": "stream",
     "text": [
      "5\n",
      "hello datascientist girl\n",
      "azka is a nice name\n",
      "baba aammar is a great teacher\n"
     ]
    }
   ],
   "source": [
    "print(2+3)\n",
    "print(\"hello datascientist girl\")\n",
    "print(\"azka is a nice name\")\n",
    "print(\"baba aammar is a great teacher\")"
   ]
  },
  {
   "cell_type": "markdown",
   "id": "9af9bba8",
   "metadata": {},
   "source": [
    "###**02_operators**"
   ]
  },
  {
   "cell_type": "markdown",
   "id": "dd1546c4",
   "metadata": {},
   "source": [
    "**PEMDAS RULE**"
   ]
  },
  {
   "cell_type": "code",
   "execution_count": 2,
   "id": "999a91ef",
   "metadata": {},
   "outputs": [
    {
     "name": "stdout",
     "output_type": "stream",
     "text": [
      "24\n",
      "24\n",
      "24\n",
      "34.0\n",
      "34\n",
      "1024\n",
      "5\n",
      "142.53333333333333\n"
     ]
    }
   ],
   "source": [
    "print(2+22)\n",
    "print(25-1)\n",
    "print(12*2)\n",
    "print(68/2)\n",
    "print(68//2)\n",
    "print(2**10)\n",
    "print(65%10)\n",
    "print(2**10*4/30+10-4)"
   ]
  },
  {
   "cell_type": "markdown",
   "id": "1cbdf38d",
   "metadata": {},
   "source": [
    "###**03_strings**"
   ]
  },
  {
   "cell_type": "code",
   "execution_count": 3,
   "id": "e004527e",
   "metadata": {},
   "outputs": [
    {
     "name": "stdout",
     "output_type": "stream",
     "text": [
      "hello datascientist girl\n",
      "azka is a nice name\n",
      "baba aammar is a great teacher\n",
      "whats'up\n",
      "the qoutes are \"this\"\n"
     ]
    }
   ],
   "source": [
    "print('hello datascientist girl')\n",
    "print(\"azka is a nice name\")\n",
    "print('''baba aammar is a great teacher''')\n",
    "print(\"whats'up\")\n",
    "print('''the qoutes are \"this\"''')"
   ]
  },
  {
   "cell_type": "markdown",
   "id": "d25fc4fb",
   "metadata": {},
   "source": [
    "###**04_comments**"
   ]
  },
  {
   "cell_type": "markdown",
   "id": "dfe33c50",
   "metadata": {},
   "source": [
    "shortcut key is **ctrl/**"
   ]
  },
  {
   "cell_type": "code",
   "execution_count": 4,
   "id": "b22d6bf2",
   "metadata": {},
   "outputs": [
    {
     "name": "stdout",
     "output_type": "stream",
     "text": [
      "142.53333333333333\n",
      "the qoutes are \"this\"\n",
      "baba aammar is a great teacher\n"
     ]
    }
   ],
   "source": [
    "print(2**10*4/30+10-4) #its an operator function with numbers\n",
    "print('''the qoutes are \"this\"''')       #its an string function  triple qo\n",
    "print(\"baba aammar is a great teacher\")   #its an string function double qoutes"
   ]
  },
  {
   "cell_type": "markdown",
   "id": "d9e0a239",
   "metadata": {},
   "source": [
    "###**5_variables**"
   ]
  },
  {
   "cell_type": "code",
   "execution_count": 5,
   "id": "c0f5d30d",
   "metadata": {},
   "outputs": [
    {
     "name": "stdout",
     "output_type": "stream",
     "text": [
      "5111\n",
      "iam understanding python by aammar\n",
      "5111 iam understanding python by aammar\n",
      "5162\n",
      "5060\n",
      "4611\n",
      "<class 'int'>\n",
      "<class 'str'>\n",
      "<class 'int'>\n",
      "<class 'int'>\n"
     ]
    }
   ],
   "source": [
    "#variable is an object containing specific value\n",
    "from inspect import walktree\n",
    "\n",
    "\n",
    "x=5111\n",
    "print(x)\n",
    "y=\"iam understanding python by aammar\"\n",
    "print(y)\n",
    "print(x,y)\n",
    "z=51\n",
    "print(x+z)\n",
    "t=x-z\n",
    "print(t)\n",
    "t=x-500\n",
    "print(t)\n",
    "#types of variables\n",
    "print(type(x))\n",
    "print(type(y))\n",
    "print(type(z))\n",
    "print(type(t))"
   ]
  },
  {
   "cell_type": "markdown",
   "id": "fe609adb",
   "metadata": {},
   "source": [
    "## rules for variables\n",
    "**1-may contain letters,numbs,underscore\n",
    "2-dont start with numbers\n",
    "3-no spaces pls\n",
    "4-no keywords used in functions\n",
    "5-short and descriptive\n",
    "6-should use lower case**"
   ]
  },
  {
   "cell_type": "code",
   "execution_count": 6,
   "id": "4cc9b84f",
   "metadata": {},
   "outputs": [
    {
     "name": "stdout",
     "output_type": "stream",
     "text": [
      "life\n",
      "drink\n",
      "tasteless\n",
      "876\n",
      "<class 'str'>\n",
      "<class 'int'>\n"
     ]
    }
   ],
   "source": [
    "water1=\"life\"\n",
    "water2=\"drink\"\n",
    "water3=\"tasteless\"\n",
    "water4=876\n",
    "print(water1)\n",
    "print(water2)\n",
    "print(water3)\n",
    "print(water4)\n",
    "print(type(water1))\n",
    "print(type(water4))"
   ]
  },
  {
   "cell_type": "markdown",
   "id": "3482d430",
   "metadata": {},
   "source": [
    "### **06_input_variables**"
   ]
  },
  {
   "cell_type": "code",
   "execution_count": 7,
   "id": "b8e15032",
   "metadata": {},
   "outputs": [
    {
     "name": "stdout",
     "output_type": "stream",
     "text": [
      "mango\n",
      "which juice do you like? APPLE\n",
      "APPLE\n",
      "which juice do you like? MANGO\n",
      "what's your good name sirJUNAID\n",
      "MANGO is available at us dear JUNAID\n"
     ]
    }
   ],
   "source": [
    "juices_available=\"mango\"\n",
    "print(juices_available)\n",
    "juices_available=input(\"which juice do you like? \")\n",
    "print(juices_available)\n",
    "\n",
    "juices_available=input(\"which juice do you like? \")\n",
    "name=input(\"what's your good name sir\")\n",
    "print(juices_available, \"is available at us\",\"dear\",name)"
   ]
  },
  {
   "cell_type": "markdown",
   "id": "62253e30",
   "metadata": {},
   "source": [
    "### **07_conditional_logics**"
   ]
  },
  {
   "cell_type": "markdown",
   "id": "3acbd14d",
   "metadata": {},
   "source": [
    "**logical operators are \"true/false\", \"yes/no\" or \"1/0\"\n",
    "  == / != / <  / > / <= / >= **"
   ]
  },
  {
   "cell_type": "code",
   "execution_count": 8,
   "id": "0e0b02f3",
   "metadata": {},
   "outputs": [
    {
     "name": "stdout",
     "output_type": "stream",
     "text": [
      "False\n",
      "True\n",
      "True\n",
      "False\n",
      "True\n",
      "False\n",
      "what is ur height? 7\n",
      "<class 'str'>\n",
      "False you are suitable\n"
     ]
    }
   ],
   "source": [
    "print( 5==10)\n",
    "print( 5!=10)\n",
    "print( 5<=10)\n",
    "print( 5>=10)\n",
    "print( 5<10)\n",
    "print( 5>10)\n",
    "\n",
    "height_for_model=5\n",
    "azka_height= input(\"what is ur height? \")\n",
    "print(type(azka_height))\n",
    "print(height_for_model==azka_height, \"you are suitable\")"
   ]
  },
  {
   "cell_type": "code",
   "execution_count": 9,
   "id": "0e9f47db",
   "metadata": {},
   "outputs": [],
   "source": [
    "###**08_type_conversion**"
   ]
  },
  {
   "cell_type": "markdown",
   "id": "215ba0af",
   "metadata": {},
   "source": [
    "### **08_type_conversion**"
   ]
  },
  {
   "cell_type": "code",
   "execution_count": 10,
   "id": "d27dee3b",
   "metadata": {},
   "outputs": [
    {
     "name": "stdout",
     "output_type": "stream",
     "text": [
      "<class 'int'>\n",
      "<class 'float'>\n",
      "<class 'str'>\n",
      "<class 'float'>\n",
      "<class 'str'>\n"
     ]
    }
   ],
   "source": [
    "x=20\n",
    "y=23.9\n",
    "z=\"elon musk\"\n",
    "\n",
    "print(type(x))\n",
    "print(type(y))\n",
    "print(type(z))\n",
    "\n",
    "\n",
    "print(type(float(x)))\n",
    "\n",
    "print(type(str(z)))"
   ]
  },
  {
   "cell_type": "markdown",
   "id": "42805ba9",
   "metadata": {},
   "source": [
    "### **09_if_else_elif**"
   ]
  },
  {
   "cell_type": "code",
   "execution_count": 11,
   "id": "0c637373",
   "metadata": {},
   "outputs": [
    {
     "name": "stdout",
     "output_type": "stream",
     "text": [
      "your order will be procceded\n"
     ]
    }
   ],
   "source": [
    "fruit_basket_minimum_order=5\n",
    "your_fruits=7\n",
    "# your_fruits=input(\"how many fruits u wanna add? \")\n",
    "# print(type(int(your_fruits)))\n",
    "# print(type(int(fruit_basket_minimum_order)))\n",
    "if your_fruits==fruit_basket_minimum_order:\n",
    "    print(\"your order will be procceded\")\n",
    "elif your_fruits > fruit_basket_minimum_order:\n",
    "    print(\"your order will be procceded\")\n",
    "else:\n",
    "    print(\"you should add more fruits\")"
   ]
  },
  {
   "cell_type": "markdown",
   "id": "0abfdaf0",
   "metadata": {},
   "source": [
    "### **10_functions**"
   ]
  },
  {
   "cell_type": "code",
   "execution_count": 12,
   "id": "e00be583",
   "metadata": {},
   "outputs": [
    {
     "name": "stdout",
     "output_type": "stream",
     "text": [
      "she is a nice girl\n",
      "she is a nice girl\n"
     ]
    }
   ],
   "source": [
    "def print_azka():\n",
    "    print(\"she is a nice girl\")\n",
    "   \n",
    "print_azka()    \n",
    "\n",
    "def az_ka(text):\n",
    "    text=\"she is a nice girl\"\n",
    "    print(text)\n",
    "\n",
    "az_ka\n",
    "\n",
    "def az_ka(text):\n",
    "    print(text)\n",
    "az_ka(\"she is a nice girl\")"
   ]
  },
  {
   "cell_type": "markdown",
   "id": "159842bd",
   "metadata": {},
   "source": [
    "### **while and for loops**"
   ]
  },
  {
   "cell_type": "code",
   "execution_count": 13,
   "id": "d37f4fed",
   "metadata": {},
   "outputs": [
    {
     "name": "stdout",
     "output_type": "stream",
     "text": [
      "0\n",
      "1\n",
      "2\n",
      "3\n",
      "4\n",
      "3\n",
      "4\n",
      "5\n",
      "6\n",
      "7\n",
      "77\n",
      "78\n",
      "79\n",
      "80\n",
      "81\n",
      "82\n",
      "83\n",
      "84\n",
      "85\n",
      "86\n",
      "87\n",
      "5\n",
      "blue\n",
      "pink\n",
      "yellow\n",
      "green\n"
     ]
    }
   ],
   "source": [
    "x=0\n",
    "while (x<5):\n",
    "    print(x)\n",
    "    x=(x+1)\n",
    "\n",
    "\n",
    "for a in range(3,8):\n",
    "    print(a)\n",
    "\n",
    "for t in range(77,88):\n",
    "    print(t)\n",
    "\n",
    "x=5\n",
    "while(x<7):\n",
    "    print(x)\n",
    "    x=(x+2)\n",
    "\n",
    "colors=[\"blue\",\"pink\",\"red\",\"yellow\",\"green\"]\n",
    "for c in colors:\n",
    "    # if (c==\"red\"):break\n",
    "    if (c==\"red\"):continue\n",
    "    print(c)"
   ]
  },
  {
   "cell_type": "markdown",
   "id": "5b10fd06",
   "metadata": {},
   "source": [
    "### **12_libararies**"
   ]
  },
  {
   "cell_type": "code",
   "execution_count": 14,
   "id": "c519be7b",
   "metadata": {},
   "outputs": [
    {
     "name": "stdout",
     "output_type": "stream",
     "text": [
      "value 3.141592653589793\n",
      "38.5\n"
     ]
    }
   ],
   "source": [
    "import math\n",
    "print(\"value\", math.pi)\n",
    "\n",
    "import statistics\n",
    "x=[22,33,44,55]\n",
    "print(statistics.mean(x))"
   ]
  },
  {
   "cell_type": "markdown",
   "id": "f7525c09",
   "metadata": {},
   "source": [
    "###**13_troble_shooting**"
   ]
  },
  {
   "cell_type": "code",
   "execution_count": 15,
   "id": "e20255df",
   "metadata": {},
   "outputs": [
    {
     "ename": "SyntaxError",
     "evalue": "invalid syntax (Temp/ipykernel_1236/658714995.py, line 1)",
     "output_type": "error",
     "traceback": [
      "\u001b[1;36m  File \u001b[1;32m\"C:\\Users\\Azka\\AppData\\Local\\Temp/ipykernel_1236/658714995.py\"\u001b[1;36m, line \u001b[1;32m1\u001b[0m\n\u001b[1;33m    print(iam azka saleem)# syntax error\u001b[0m\n\u001b[1;37m              ^\u001b[0m\n\u001b[1;31mSyntaxError\u001b[0m\u001b[1;31m:\u001b[0m invalid syntax\n"
     ]
    }
   ],
   "source": [
    "print(iam azka saleem)# syntax error\n",
    "print(25/0)           # runntime error \n",
    "name=azka\n",
    "print(\"hello name)\"   # unknown error"
   ]
  },
  {
   "cell_type": "markdown",
   "id": "34179c73",
   "metadata": {},
   "source": [
    "**THE CODE IS MADE BY PYTHON VSCODE IDE JUPYTER SAVED AS HTML.\n",
    "ITS THE END.\n",
    "BUNDLES OF THANKS AND APPRECIATION TO THE INSTRUCTOR BABA AAMMAR.\n",
    "JAZAKALLAH KHAIR."
   ]
  }
 ],
 "metadata": {
  "kernelspec": {
   "display_name": "Python 3 (ipykernel)",
   "language": "python",
   "name": "python3"
  },
  "language_info": {
   "codemirror_mode": {
    "name": "ipython",
    "version": 3
   },
   "file_extension": ".py",
   "mimetype": "text/x-python",
   "name": "python",
   "nbconvert_exporter": "python",
   "pygments_lexer": "ipython3",
   "version": "3.9.7"
  }
 },
 "nbformat": 4,
 "nbformat_minor": 5
}
